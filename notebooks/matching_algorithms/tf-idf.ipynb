{
 "cells": [
  {
   "cell_type": "code",
   "execution_count": 3,
   "metadata": {},
   "outputs": [],
   "source": [
    "import pandas as pd\n",
    "from ast import literal_eval\n",
    "import re\n",
    "import nltk\n",
    "from nltk.corpus import stopwords\n",
    "from nltk.stem import WordNetLemmatizer\n",
    "import numpy as np"
   ]
  },
  {
   "cell_type": "code",
   "execution_count": 25,
   "metadata": {},
   "outputs": [],
   "source": [
    "from sklearn.feature_extraction.text import TfidfVectorizer\n",
    "from sklearn.metrics.pairwise import cosine_similarity"
   ]
  },
  {
   "cell_type": "code",
   "execution_count": 10,
   "metadata": {},
   "outputs": [],
   "source": [
    "movies = pd.read_csv(\"../../data/clean/english_movies_clean.csv\")"
   ]
  },
  {
   "cell_type": "code",
   "execution_count": 11,
   "metadata": {},
   "outputs": [],
   "source": [
    "movies = movies[movies[\"overview\"].isna() == False]"
   ]
  },
  {
   "cell_type": "code",
   "execution_count": null,
   "metadata": {},
   "outputs": [],
   "source": []
  },
  {
   "cell_type": "code",
   "execution_count": 7,
   "metadata": {},
   "outputs": [
    {
     "data": {
      "text/plain": [
       "(328020, 9)"
      ]
     },
     "execution_count": 7,
     "metadata": {},
     "output_type": "execute_result"
    }
   ],
   "source": [
    "movies.shape"
   ]
  },
  {
   "cell_type": "code",
   "execution_count": 5,
   "metadata": {},
   "outputs": [
    {
     "data": {
      "text/plain": [
       "Index(['id', 'title', 'overview', 'popularity', 'release_date',\n",
       "       'clean_keywords', 'clean_genres', 'cast', 'director'],\n",
       "      dtype='object')"
      ]
     },
     "execution_count": 5,
     "metadata": {},
     "output_type": "execute_result"
    }
   ],
   "source": [
    "movies.columns"
   ]
  },
  {
   "cell_type": "code",
   "execution_count": 12,
   "metadata": {},
   "outputs": [],
   "source": [
    "columns = [\"clean_keywords\", \"clean_genres\", \"cast\", \"director\"]\n",
    "for c in columns:\n",
    "    movies[c] = movies[c].fillna(\"[]\").apply(literal_eval)"
   ]
  },
  {
   "cell_type": "code",
   "execution_count": 8,
   "metadata": {},
   "outputs": [],
   "source": [
    "movies = movies[movies[\"overview\"].isna() == False]"
   ]
  },
  {
   "cell_type": "code",
   "execution_count": 9,
   "metadata": {},
   "outputs": [
    {
     "name": "stdout",
     "output_type": "stream",
     "text": [
      "<class 'pandas.core.frame.DataFrame'>\n",
      "Index: 320977 entries, 0 to 328019\n",
      "Data columns (total 9 columns):\n",
      " #   Column          Non-Null Count   Dtype  \n",
      "---  ------          --------------   -----  \n",
      " 0   id              320977 non-null  float64\n",
      " 1   title           320976 non-null  object \n",
      " 2   overview        320977 non-null  object \n",
      " 3   popularity      320977 non-null  float64\n",
      " 4   release_date    284466 non-null  object \n",
      " 5   clean_keywords  100978 non-null  object \n",
      " 6   clean_genres    213989 non-null  object \n",
      " 7   cast            205672 non-null  object \n",
      " 8   director        253599 non-null  object \n",
      "dtypes: float64(2), object(7)\n",
      "memory usage: 24.5+ MB\n"
     ]
    }
   ],
   "source": [
    "movies.info()"
   ]
  },
  {
   "cell_type": "code",
   "execution_count": 12,
   "metadata": {},
   "outputs": [],
   "source": [
    "def preprocess(text):\n",
    "    # Convert to lowercase\n",
    "    text = text.lower()\n",
    "\n",
    "    # Remove special characters and digits\n",
    "    text = re.sub(r'\\W+|\\d+', ' ', text)\n",
    "\n",
    "    # Remove stopwords and lemmatize\n",
    "    stop_words = set(stopwords.words('english'))\n",
    "    lemmatizer = WordNetLemmatizer()\n",
    "    text = ' '.join([lemmatizer.lemmatize(word) for word in text.split() if word not in stop_words])\n",
    "\n",
    "    return text"
   ]
  },
  {
   "cell_type": "code",
   "execution_count": 13,
   "metadata": {},
   "outputs": [],
   "source": [
    "movies[\"clean_overview\"] = movies[\"overview\"].apply(preprocess)"
   ]
  },
  {
   "cell_type": "code",
   "execution_count": 15,
   "metadata": {},
   "outputs": [],
   "source": []
  },
  {
   "cell_type": "code",
   "execution_count": null,
   "metadata": {},
   "outputs": [],
   "source": []
  },
  {
   "cell_type": "code",
   "execution_count": 50,
   "metadata": {},
   "outputs": [],
   "source": [
    "vectorizer = TfidfVectorizer()\n",
    "tfidf_matrix = vectorizer.fit_transform(movies['clean_overview'])"
   ]
  },
  {
   "cell_type": "code",
   "execution_count": 26,
   "metadata": {},
   "outputs": [],
   "source": [
    "def tfidf_search(query, tfidf_matrix, vectorizer):\n",
    "    query_vec = vectorizer.transform([query])\n",
    "    similarity_scores = cosine_similarity(query_vec, tfidf_matrix)\n",
    "    ranked_indices = np.argsort(-similarity_scores).flatten()\n",
    "    return ranked_indices"
   ]
  },
  {
   "cell_type": "code",
   "execution_count": 1,
   "metadata": {},
   "outputs": [],
   "source": [
    "x = [\n",
    "  \"Lawyer\",\n",
    "  \"Law\",\n",
    "  \"Courtroom\",\n",
    "  \"Justice\",\n",
    "  \"Morality\",\n",
    "  \"Ethics\"\n",
    "]"
   ]
  },
  {
   "cell_type": "code",
   "execution_count": 2,
   "metadata": {},
   "outputs": [
    {
     "data": {
      "text/plain": [
       "'Lawyer Law Courtroom Justice Morality Ethics'"
      ]
     },
     "execution_count": 2,
     "metadata": {},
     "output_type": "execute_result"
    }
   ],
   "source": [
    "\" \".join(x)"
   ]
  },
  {
   "cell_type": "code",
   "execution_count": 54,
   "metadata": {},
   "outputs": [],
   "source": [
    "res = tfidf_search(\" \".join(x), tfidf_matrix, vectorizer)"
   ]
  },
  {
   "cell_type": "code",
   "execution_count": 55,
   "metadata": {},
   "outputs": [
    {
     "data": {
      "text/html": [
       "<div>\n",
       "<style scoped>\n",
       "    .dataframe tbody tr th:only-of-type {\n",
       "        vertical-align: middle;\n",
       "    }\n",
       "\n",
       "    .dataframe tbody tr th {\n",
       "        vertical-align: top;\n",
       "    }\n",
       "\n",
       "    .dataframe thead th {\n",
       "        text-align: right;\n",
       "    }\n",
       "</style>\n",
       "<table border=\"1\" class=\"dataframe\">\n",
       "  <thead>\n",
       "    <tr style=\"text-align: right;\">\n",
       "      <th></th>\n",
       "      <th>id</th>\n",
       "      <th>title</th>\n",
       "      <th>overview</th>\n",
       "      <th>popularity</th>\n",
       "      <th>release_date</th>\n",
       "      <th>clean_keywords</th>\n",
       "      <th>clean_genres</th>\n",
       "      <th>cast</th>\n",
       "      <th>director</th>\n",
       "      <th>clean_overview</th>\n",
       "      <th>clean_keywords_soup</th>\n",
       "    </tr>\n",
       "  </thead>\n",
       "  <tbody>\n",
       "    <tr>\n",
       "      <th>304473</th>\n",
       "      <td>1169405.0</td>\n",
       "      <td>Fatal Justice</td>\n",
       "      <td>When the law fails, family justice is the only...</td>\n",
       "      <td>0.213</td>\n",
       "      <td>2023-07-14</td>\n",
       "      <td>[]</td>\n",
       "      <td>[Thriller]</td>\n",
       "      <td>[]</td>\n",
       "      <td>[]</td>\n",
       "      <td>law fails family justice way</td>\n",
       "      <td></td>\n",
       "    </tr>\n",
       "    <tr>\n",
       "      <th>202948</th>\n",
       "      <td>723838.0</td>\n",
       "      <td>All the Beautiful Girls</td>\n",
       "      <td>a film by Justice</td>\n",
       "      <td>0.867</td>\n",
       "      <td>2020-07-12</td>\n",
       "      <td>[]</td>\n",
       "      <td>[]</td>\n",
       "      <td>[Christophe Mulai, Christoph Mulai, Chris Mula...</td>\n",
       "      <td>[Justice]</td>\n",
       "      <td>film justice</td>\n",
       "      <td></td>\n",
       "    </tr>\n",
       "    <tr>\n",
       "      <th>146687</th>\n",
       "      <td>539588.0</td>\n",
       "      <td>Billy Rango</td>\n",
       "      <td>Death is the only justice that we all have.</td>\n",
       "      <td>0.214</td>\n",
       "      <td>NaN</td>\n",
       "      <td>[]</td>\n",
       "      <td>[]</td>\n",
       "      <td>[]</td>\n",
       "      <td>[]</td>\n",
       "      <td>death justice</td>\n",
       "      <td></td>\n",
       "    </tr>\n",
       "    <tr>\n",
       "      <th>305749</th>\n",
       "      <td>1175658.0</td>\n",
       "      <td>James Bulger: The Trial</td>\n",
       "      <td>Thirty years on from the trial that shocked th...</td>\n",
       "      <td>0.322</td>\n",
       "      <td>2023-09-06</td>\n",
       "      <td>[child murder, murder, courtroom, true crime, ...</td>\n",
       "      <td>[Documentary]</td>\n",
       "      <td>[]</td>\n",
       "      <td>[]</td>\n",
       "      <td>thirty year trial shocked world new document r...</td>\n",
       "      <td>child murder murder courtroom true crime child...</td>\n",
       "    </tr>\n",
       "    <tr>\n",
       "      <th>135301</th>\n",
       "      <td>504996.0</td>\n",
       "      <td>In the Shadow of a Killer</td>\n",
       "      <td>Courtroom drama involving the mafia inspired b...</td>\n",
       "      <td>3.468</td>\n",
       "      <td>1992-04-27</td>\n",
       "      <td>[]</td>\n",
       "      <td>[Crime]</td>\n",
       "      <td>[Scott Bakula, Robert Clohessy, James Russo, L...</td>\n",
       "      <td>[Alan Metzger]</td>\n",
       "      <td>courtroom drama involving mafia inspired true ...</td>\n",
       "      <td></td>\n",
       "    </tr>\n",
       "  </tbody>\n",
       "</table>\n",
       "</div>"
      ],
      "text/plain": [
       "               id                      title  \\\n",
       "304473  1169405.0              Fatal Justice   \n",
       "202948   723838.0    All the Beautiful Girls   \n",
       "146687   539588.0                Billy Rango   \n",
       "305749  1175658.0    James Bulger: The Trial   \n",
       "135301   504996.0  In the Shadow of a Killer   \n",
       "\n",
       "                                                 overview  popularity  \\\n",
       "304473  When the law fails, family justice is the only...       0.213   \n",
       "202948                                  a film by Justice       0.867   \n",
       "146687        Death is the only justice that we all have.       0.214   \n",
       "305749  Thirty years on from the trial that shocked th...       0.322   \n",
       "135301  Courtroom drama involving the mafia inspired b...       3.468   \n",
       "\n",
       "       release_date                                     clean_keywords  \\\n",
       "304473   2023-07-14                                                 []   \n",
       "202948   2020-07-12                                                 []   \n",
       "146687          NaN                                                 []   \n",
       "305749   2023-09-06  [child murder, murder, courtroom, true crime, ...   \n",
       "135301   1992-04-27                                                 []   \n",
       "\n",
       "         clean_genres                                               cast  \\\n",
       "304473     [Thriller]                                                 []   \n",
       "202948             []  [Christophe Mulai, Christoph Mulai, Chris Mula...   \n",
       "146687             []                                                 []   \n",
       "305749  [Documentary]                                                 []   \n",
       "135301        [Crime]  [Scott Bakula, Robert Clohessy, James Russo, L...   \n",
       "\n",
       "              director                                     clean_overview  \\\n",
       "304473              []                       law fails family justice way   \n",
       "202948       [Justice]                                       film justice   \n",
       "146687              []                                      death justice   \n",
       "305749              []  thirty year trial shocked world new document r...   \n",
       "135301  [Alan Metzger]  courtroom drama involving mafia inspired true ...   \n",
       "\n",
       "                                      clean_keywords_soup  \n",
       "304473                                                     \n",
       "202948                                                     \n",
       "146687                                                     \n",
       "305749  child murder murder courtroom true crime child...  \n",
       "135301                                                     "
      ]
     },
     "execution_count": 55,
     "metadata": {},
     "output_type": "execute_result"
    }
   ],
   "source": [
    "movies.iloc[res[:5]]"
   ]
  },
  {
   "cell_type": "code",
   "execution_count": 37,
   "metadata": {},
   "outputs": [],
   "source": [
    "movies[\"clean_keywords_soup\"] = movies[\"clean_keywords\"].apply(lambda x : \" \".join(x))"
   ]
  },
  {
   "cell_type": "code",
   "execution_count": 38,
   "metadata": {},
   "outputs": [],
   "source": [
    "tfidf_matrix_keywords = vectorizer.fit_transform(movies['clean_keywords_soup'])"
   ]
  },
  {
   "cell_type": "code",
   "execution_count": 43,
   "metadata": {},
   "outputs": [],
   "source": [
    "res2 = tfidf_search(\" \".join(x), tfidf_matrix_keywords, vectorizer)"
   ]
  },
  {
   "cell_type": "code",
   "execution_count": 44,
   "metadata": {},
   "outputs": [
    {
     "data": {
      "text/html": [
       "<div>\n",
       "<style scoped>\n",
       "    .dataframe tbody tr th:only-of-type {\n",
       "        vertical-align: middle;\n",
       "    }\n",
       "\n",
       "    .dataframe tbody tr th {\n",
       "        vertical-align: top;\n",
       "    }\n",
       "\n",
       "    .dataframe thead th {\n",
       "        text-align: right;\n",
       "    }\n",
       "</style>\n",
       "<table border=\"1\" class=\"dataframe\">\n",
       "  <thead>\n",
       "    <tr style=\"text-align: right;\">\n",
       "      <th></th>\n",
       "      <th>id</th>\n",
       "      <th>title</th>\n",
       "      <th>overview</th>\n",
       "      <th>popularity</th>\n",
       "      <th>release_date</th>\n",
       "      <th>clean_keywords</th>\n",
       "      <th>clean_genres</th>\n",
       "      <th>cast</th>\n",
       "      <th>director</th>\n",
       "      <th>clean_overview</th>\n",
       "      <th>clean_keywords_soup</th>\n",
       "    </tr>\n",
       "  </thead>\n",
       "  <tbody>\n",
       "    <tr>\n",
       "      <th>275138</th>\n",
       "      <td>1031922.0</td>\n",
       "      <td>Worthy</td>\n",
       "      <td>Fresh off a winning case that brought her unwa...</td>\n",
       "      <td>1.410</td>\n",
       "      <td>2018-10-31</td>\n",
       "      <td>[law and ethics, morality, justice, social jus...</td>\n",
       "      <td>[Drama, Crime]</td>\n",
       "      <td>[Kally Khourshid, Tom Jenkins, Matthew Hancock...</td>\n",
       "      <td>[Michael Vaughn Hernandez]</td>\n",
       "      <td>fresh winning case brought unwanted internet f...</td>\n",
       "      <td>law and ethics morality justice social justice...</td>\n",
       "    </tr>\n",
       "    <tr>\n",
       "      <th>48168</th>\n",
       "      <td>178819.0</td>\n",
       "      <td>Midnight Court</td>\n",
       "      <td>After losing his bid for district attorney, an...</td>\n",
       "      <td>4.632</td>\n",
       "      <td>1937-03-06</td>\n",
       "      <td>[lawyer, courtroom]</td>\n",
       "      <td>[Romance, Crime, Drama]</td>\n",
       "      <td>[John Litel, William B. Davidson, Joan Woodbur...</td>\n",
       "      <td>[Frank McDonald]</td>\n",
       "      <td>losing bid district attorney aspiring young la...</td>\n",
       "      <td>lawyer courtroom</td>\n",
       "    </tr>\n",
       "    <tr>\n",
       "      <th>124096</th>\n",
       "      <td>464683.0</td>\n",
       "      <td>Creating a Monster</td>\n",
       "      <td>Creating a Monster is about reality television...</td>\n",
       "      <td>0.203</td>\n",
       "      <td>2016-12-17</td>\n",
       "      <td>[ethics]</td>\n",
       "      <td>[Documentary]</td>\n",
       "      <td>[]</td>\n",
       "      <td>[Gena Lida Riess]</td>\n",
       "      <td>creating monster reality television sub textua...</td>\n",
       "      <td>ethics</td>\n",
       "    </tr>\n",
       "    <tr>\n",
       "      <th>35069</th>\n",
       "      <td>112977.0</td>\n",
       "      <td>Deadlocked</td>\n",
       "      <td>A young man is accused of rape and murder and ...</td>\n",
       "      <td>3.915</td>\n",
       "      <td>2000-06-18</td>\n",
       "      <td>[lawyer, racism, justice, framed for murder, law]</td>\n",
       "      <td>[Crime, Thriller, Drama, Mystery, TV Movie]</td>\n",
       "      <td>[Tom Butler, Charles S. Dutton, John Finn, Dav...</td>\n",
       "      <td>[Michael W. Watkins]</td>\n",
       "      <td>young man accused rape murder placed trial fat...</td>\n",
       "      <td>lawyer racism justice framed for murder law</td>\n",
       "    </tr>\n",
       "    <tr>\n",
       "      <th>59172</th>\n",
       "      <td>239220.0</td>\n",
       "      <td>The Advocate</td>\n",
       "      <td>A grieving defense attorney gets caught in a t...</td>\n",
       "      <td>2.864</td>\n",
       "      <td>2013-02-28</td>\n",
       "      <td>[detective, murder, lawyer, courtroom]</td>\n",
       "      <td>[Thriller, Crime, Mystery]</td>\n",
       "      <td>[Kristina Klebe, Steffinnie Phrommany, Michael...</td>\n",
       "      <td>[Tamas Harangi]</td>\n",
       "      <td>grieving defense attorney get caught twisted g...</td>\n",
       "      <td>detective murder lawyer courtroom</td>\n",
       "    </tr>\n",
       "  </tbody>\n",
       "</table>\n",
       "</div>"
      ],
      "text/plain": [
       "               id               title  \\\n",
       "275138  1031922.0              Worthy   \n",
       "48168    178819.0      Midnight Court   \n",
       "124096   464683.0  Creating a Monster   \n",
       "35069    112977.0          Deadlocked   \n",
       "59172    239220.0        The Advocate   \n",
       "\n",
       "                                                 overview  popularity  \\\n",
       "275138  Fresh off a winning case that brought her unwa...       1.410   \n",
       "48168   After losing his bid for district attorney, an...       4.632   \n",
       "124096  Creating a Monster is about reality television...       0.203   \n",
       "35069   A young man is accused of rape and murder and ...       3.915   \n",
       "59172   A grieving defense attorney gets caught in a t...       2.864   \n",
       "\n",
       "       release_date                                     clean_keywords  \\\n",
       "275138   2018-10-31  [law and ethics, morality, justice, social jus...   \n",
       "48168    1937-03-06                                [lawyer, courtroom]   \n",
       "124096   2016-12-17                                           [ethics]   \n",
       "35069    2000-06-18  [lawyer, racism, justice, framed for murder, law]   \n",
       "59172    2013-02-28             [detective, murder, lawyer, courtroom]   \n",
       "\n",
       "                                       clean_genres  \\\n",
       "275138                               [Drama, Crime]   \n",
       "48168                       [Romance, Crime, Drama]   \n",
       "124096                                [Documentary]   \n",
       "35069   [Crime, Thriller, Drama, Mystery, TV Movie]   \n",
       "59172                    [Thriller, Crime, Mystery]   \n",
       "\n",
       "                                                     cast  \\\n",
       "275138  [Kally Khourshid, Tom Jenkins, Matthew Hancock...   \n",
       "48168   [John Litel, William B. Davidson, Joan Woodbur...   \n",
       "124096                                                 []   \n",
       "35069   [Tom Butler, Charles S. Dutton, John Finn, Dav...   \n",
       "59172   [Kristina Klebe, Steffinnie Phrommany, Michael...   \n",
       "\n",
       "                          director  \\\n",
       "275138  [Michael Vaughn Hernandez]   \n",
       "48168             [Frank McDonald]   \n",
       "124096           [Gena Lida Riess]   \n",
       "35069         [Michael W. Watkins]   \n",
       "59172              [Tamas Harangi]   \n",
       "\n",
       "                                           clean_overview  \\\n",
       "275138  fresh winning case brought unwanted internet f...   \n",
       "48168   losing bid district attorney aspiring young la...   \n",
       "124096  creating monster reality television sub textua...   \n",
       "35069   young man accused rape murder placed trial fat...   \n",
       "59172   grieving defense attorney get caught twisted g...   \n",
       "\n",
       "                                      clean_keywords_soup  \n",
       "275138  law and ethics morality justice social justice...  \n",
       "48168                                    lawyer courtroom  \n",
       "124096                                             ethics  \n",
       "35069         lawyer racism justice framed for murder law  \n",
       "59172                   detective murder lawyer courtroom  "
      ]
     },
     "execution_count": 44,
     "metadata": {},
     "output_type": "execute_result"
    }
   ],
   "source": [
    "movies.iloc[res2[:5]]"
   ]
  },
  {
   "cell_type": "code",
   "execution_count": null,
   "metadata": {},
   "outputs": [],
   "source": []
  }
 ],
 "metadata": {
  "kernelspec": {
   "display_name": "recenv",
   "language": "python",
   "name": "python3"
  },
  "language_info": {
   "codemirror_mode": {
    "name": "ipython",
    "version": 3
   },
   "file_extension": ".py",
   "mimetype": "text/x-python",
   "name": "python",
   "nbconvert_exporter": "python",
   "pygments_lexer": "ipython3",
   "version": "3.11.4"
  }
 },
 "nbformat": 4,
 "nbformat_minor": 2
}
