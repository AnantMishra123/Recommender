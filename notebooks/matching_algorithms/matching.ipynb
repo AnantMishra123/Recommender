{
 "cells": [
  {
   "cell_type": "code",
   "execution_count": 1,
   "metadata": {},
   "outputs": [],
   "source": [
    "import pandas as pd\n",
    "from sklearn.metrics.pairwise import cosine_similarity\n",
    "import spacy\n",
    "import numpy as np\n",
    "from ast import literal_eval\n",
    "import time\n"
   ]
  },
  {
   "cell_type": "code",
   "execution_count": 2,
   "metadata": {},
   "outputs": [
    {
     "name": "stdout",
     "output_type": "stream",
     "text": [
      "Collecting en-core-web-lg==3.7.1\n",
      "  Downloading https://github.com/explosion/spacy-models/releases/download/en_core_web_lg-3.7.1/en_core_web_lg-3.7.1-py3-none-any.whl (587.7 MB)\n",
      "\u001b[2K     \u001b[90m━━━━━━━━━━━━━━━━━━━━━━━━━━━━━━━━━━━━━━━\u001b[0m \u001b[32m587.7/587.7 MB\u001b[0m \u001b[31m2.9 MB/s\u001b[0m eta \u001b[36m0:00:00\u001b[0m00:01\u001b[0m00:02\u001b[0m\n",
      "\u001b[?25hRequirement already satisfied: spacy<3.8.0,>=3.7.2 in /Users/anant/webdev/actual_recommender/Recommender/recenv/lib/python3.11/site-packages (from en-core-web-lg==3.7.1) (3.7.4)\n",
      "Requirement already satisfied: spacy-legacy<3.1.0,>=3.0.11 in /Users/anant/webdev/actual_recommender/Recommender/recenv/lib/python3.11/site-packages (from spacy<3.8.0,>=3.7.2->en-core-web-lg==3.7.1) (3.0.12)\n",
      "Requirement already satisfied: spacy-loggers<2.0.0,>=1.0.0 in /Users/anant/webdev/actual_recommender/Recommender/recenv/lib/python3.11/site-packages (from spacy<3.8.0,>=3.7.2->en-core-web-lg==3.7.1) (1.0.5)\n",
      "Requirement already satisfied: murmurhash<1.1.0,>=0.28.0 in /Users/anant/webdev/actual_recommender/Recommender/recenv/lib/python3.11/site-packages (from spacy<3.8.0,>=3.7.2->en-core-web-lg==3.7.1) (1.0.10)\n",
      "Requirement already satisfied: cymem<2.1.0,>=2.0.2 in /Users/anant/webdev/actual_recommender/Recommender/recenv/lib/python3.11/site-packages (from spacy<3.8.0,>=3.7.2->en-core-web-lg==3.7.1) (2.0.8)\n",
      "Requirement already satisfied: preshed<3.1.0,>=3.0.2 in /Users/anant/webdev/actual_recommender/Recommender/recenv/lib/python3.11/site-packages (from spacy<3.8.0,>=3.7.2->en-core-web-lg==3.7.1) (3.0.9)\n",
      "Requirement already satisfied: thinc<8.3.0,>=8.2.2 in /Users/anant/webdev/actual_recommender/Recommender/recenv/lib/python3.11/site-packages (from spacy<3.8.0,>=3.7.2->en-core-web-lg==3.7.1) (8.2.3)\n",
      "Requirement already satisfied: wasabi<1.2.0,>=0.9.1 in /Users/anant/webdev/actual_recommender/Recommender/recenv/lib/python3.11/site-packages (from spacy<3.8.0,>=3.7.2->en-core-web-lg==3.7.1) (1.1.2)\n",
      "Requirement already satisfied: srsly<3.0.0,>=2.4.3 in /Users/anant/webdev/actual_recommender/Recommender/recenv/lib/python3.11/site-packages (from spacy<3.8.0,>=3.7.2->en-core-web-lg==3.7.1) (2.4.8)\n",
      "Requirement already satisfied: catalogue<2.1.0,>=2.0.6 in /Users/anant/webdev/actual_recommender/Recommender/recenv/lib/python3.11/site-packages (from spacy<3.8.0,>=3.7.2->en-core-web-lg==3.7.1) (2.0.10)\n",
      "Requirement already satisfied: weasel<0.4.0,>=0.1.0 in /Users/anant/webdev/actual_recommender/Recommender/recenv/lib/python3.11/site-packages (from spacy<3.8.0,>=3.7.2->en-core-web-lg==3.7.1) (0.3.4)\n",
      "Requirement already satisfied: typer<0.10.0,>=0.3.0 in /Users/anant/webdev/actual_recommender/Recommender/recenv/lib/python3.11/site-packages (from spacy<3.8.0,>=3.7.2->en-core-web-lg==3.7.1) (0.9.4)\n",
      "Requirement already satisfied: smart-open<7.0.0,>=5.2.1 in /Users/anant/webdev/actual_recommender/Recommender/recenv/lib/python3.11/site-packages (from spacy<3.8.0,>=3.7.2->en-core-web-lg==3.7.1) (6.4.0)\n",
      "Requirement already satisfied: tqdm<5.0.0,>=4.38.0 in /Users/anant/webdev/actual_recommender/Recommender/recenv/lib/python3.11/site-packages (from spacy<3.8.0,>=3.7.2->en-core-web-lg==3.7.1) (4.66.4)\n",
      "Requirement already satisfied: requests<3.0.0,>=2.13.0 in /Users/anant/webdev/actual_recommender/Recommender/recenv/lib/python3.11/site-packages (from spacy<3.8.0,>=3.7.2->en-core-web-lg==3.7.1) (2.31.0)\n",
      "Requirement already satisfied: pydantic!=1.8,!=1.8.1,<3.0.0,>=1.7.4 in /Users/anant/webdev/actual_recommender/Recommender/recenv/lib/python3.11/site-packages (from spacy<3.8.0,>=3.7.2->en-core-web-lg==3.7.1) (2.7.1)\n",
      "Requirement already satisfied: jinja2 in /Users/anant/webdev/actual_recommender/Recommender/recenv/lib/python3.11/site-packages (from spacy<3.8.0,>=3.7.2->en-core-web-lg==3.7.1) (3.1.4)\n",
      "Requirement already satisfied: setuptools in /Users/anant/webdev/actual_recommender/Recommender/recenv/lib/python3.11/site-packages (from spacy<3.8.0,>=3.7.2->en-core-web-lg==3.7.1) (69.5.1)\n",
      "Requirement already satisfied: packaging>=20.0 in /Users/anant/webdev/actual_recommender/Recommender/recenv/lib/python3.11/site-packages (from spacy<3.8.0,>=3.7.2->en-core-web-lg==3.7.1) (24.0)\n",
      "Requirement already satisfied: langcodes<4.0.0,>=3.2.0 in /Users/anant/webdev/actual_recommender/Recommender/recenv/lib/python3.11/site-packages (from spacy<3.8.0,>=3.7.2->en-core-web-lg==3.7.1) (3.4.0)\n",
      "Requirement already satisfied: numpy>=1.19.0 in /Users/anant/webdev/actual_recommender/Recommender/recenv/lib/python3.11/site-packages (from spacy<3.8.0,>=3.7.2->en-core-web-lg==3.7.1) (1.26.4)\n",
      "Requirement already satisfied: language-data>=1.2 in /Users/anant/webdev/actual_recommender/Recommender/recenv/lib/python3.11/site-packages (from langcodes<4.0.0,>=3.2.0->spacy<3.8.0,>=3.7.2->en-core-web-lg==3.7.1) (1.2.0)\n",
      "Requirement already satisfied: annotated-types>=0.4.0 in /Users/anant/webdev/actual_recommender/Recommender/recenv/lib/python3.11/site-packages (from pydantic!=1.8,!=1.8.1,<3.0.0,>=1.7.4->spacy<3.8.0,>=3.7.2->en-core-web-lg==3.7.1) (0.6.0)\n",
      "Requirement already satisfied: pydantic-core==2.18.2 in /Users/anant/webdev/actual_recommender/Recommender/recenv/lib/python3.11/site-packages (from pydantic!=1.8,!=1.8.1,<3.0.0,>=1.7.4->spacy<3.8.0,>=3.7.2->en-core-web-lg==3.7.1) (2.18.2)\n",
      "Requirement already satisfied: typing-extensions>=4.6.1 in /Users/anant/webdev/actual_recommender/Recommender/recenv/lib/python3.11/site-packages (from pydantic!=1.8,!=1.8.1,<3.0.0,>=1.7.4->spacy<3.8.0,>=3.7.2->en-core-web-lg==3.7.1) (4.11.0)\n",
      "Requirement already satisfied: charset-normalizer<4,>=2 in /Users/anant/webdev/actual_recommender/Recommender/recenv/lib/python3.11/site-packages (from requests<3.0.0,>=2.13.0->spacy<3.8.0,>=3.7.2->en-core-web-lg==3.7.1) (3.3.2)\n",
      "Requirement already satisfied: idna<4,>=2.5 in /Users/anant/webdev/actual_recommender/Recommender/recenv/lib/python3.11/site-packages (from requests<3.0.0,>=2.13.0->spacy<3.8.0,>=3.7.2->en-core-web-lg==3.7.1) (3.7)\n",
      "Requirement already satisfied: urllib3<3,>=1.21.1 in /Users/anant/webdev/actual_recommender/Recommender/recenv/lib/python3.11/site-packages (from requests<3.0.0,>=2.13.0->spacy<3.8.0,>=3.7.2->en-core-web-lg==3.7.1) (2.2.1)\n",
      "Requirement already satisfied: certifi>=2017.4.17 in /Users/anant/webdev/actual_recommender/Recommender/recenv/lib/python3.11/site-packages (from requests<3.0.0,>=2.13.0->spacy<3.8.0,>=3.7.2->en-core-web-lg==3.7.1) (2024.2.2)\n",
      "Requirement already satisfied: blis<0.8.0,>=0.7.8 in /Users/anant/webdev/actual_recommender/Recommender/recenv/lib/python3.11/site-packages (from thinc<8.3.0,>=8.2.2->spacy<3.8.0,>=3.7.2->en-core-web-lg==3.7.1) (0.7.11)\n",
      "Requirement already satisfied: confection<1.0.0,>=0.0.1 in /Users/anant/webdev/actual_recommender/Recommender/recenv/lib/python3.11/site-packages (from thinc<8.3.0,>=8.2.2->spacy<3.8.0,>=3.7.2->en-core-web-lg==3.7.1) (0.1.4)\n",
      "Requirement already satisfied: click<9.0.0,>=7.1.1 in /Users/anant/webdev/actual_recommender/Recommender/recenv/lib/python3.11/site-packages (from typer<0.10.0,>=0.3.0->spacy<3.8.0,>=3.7.2->en-core-web-lg==3.7.1) (8.1.7)\n",
      "Requirement already satisfied: cloudpathlib<0.17.0,>=0.7.0 in /Users/anant/webdev/actual_recommender/Recommender/recenv/lib/python3.11/site-packages (from weasel<0.4.0,>=0.1.0->spacy<3.8.0,>=3.7.2->en-core-web-lg==3.7.1) (0.16.0)\n",
      "Requirement already satisfied: MarkupSafe>=2.0 in /Users/anant/webdev/actual_recommender/Recommender/recenv/lib/python3.11/site-packages (from jinja2->spacy<3.8.0,>=3.7.2->en-core-web-lg==3.7.1) (2.1.5)\n",
      "Requirement already satisfied: marisa-trie>=0.7.7 in /Users/anant/webdev/actual_recommender/Recommender/recenv/lib/python3.11/site-packages (from language-data>=1.2->langcodes<4.0.0,>=3.2.0->spacy<3.8.0,>=3.7.2->en-core-web-lg==3.7.1) (1.1.1)\n",
      "Installing collected packages: en-core-web-lg\n",
      "Successfully installed en-core-web-lg-3.7.1\n",
      "\u001b[38;5;2m✔ Download and installation successful\u001b[0m\n",
      "You can now load the package via spacy.load('en_core_web_lg')\n"
     ]
    }
   ],
   "source": [
    "!python -m spacy download en_core_web_lg"
   ]
  },
  {
   "cell_type": "code",
   "execution_count": 9,
   "metadata": {},
   "outputs": [],
   "source": [
    "nlp = spacy.load(\"en_core_web_lg\")  # This loads the pre-trained word vectors"
   ]
  },
  {
   "cell_type": "code",
   "execution_count": null,
   "metadata": {},
   "outputs": [],
   "source": []
  },
  {
   "cell_type": "code",
   "execution_count": 4,
   "metadata": {},
   "outputs": [
    {
     "name": "stderr",
     "output_type": "stream",
     "text": [
      "/var/folders/mm/b26l1fbn3lgg74ssxs6chhsh0000gn/T/ipykernel_37969/826469839.py:1: DtypeWarning: Columns (0,1,7) have mixed types. Specify dtype option on import or set low_memory=False.\n",
      "  tmdb_movies = pd.read_csv(\"../../data/clean/final_movies.csv\") #load dataset\n"
     ]
    }
   ],
   "source": [
    "tmdb_movies = pd.read_csv(\"../../data/clean/final_movies.csv\") #load dataset"
   ]
  },
  {
   "cell_type": "code",
   "execution_count": 6,
   "metadata": {},
   "outputs": [
    {
     "data": {
      "text/plain": [
       "((725816, 9),\n",
       " Index(['Unnamed: 0', 'id', 'title', 'overview', 'keywords', 'genres', 'cast',\n",
       "        'director', 'popularity'],\n",
       "       dtype='object'))"
      ]
     },
     "execution_count": 6,
     "metadata": {},
     "output_type": "execute_result"
    }
   ],
   "source": [
    "tmdb_movies.shape, tmdb_movies.columns"
   ]
  },
  {
   "cell_type": "code",
   "execution_count": null,
   "metadata": {},
   "outputs": [],
   "source": []
  },
  {
   "cell_type": "code",
   "execution_count": 7,
   "metadata": {},
   "outputs": [],
   "source": [
    "# Sample target keywords\n",
    "target_keywords = [\"Action\",\"Mystery\", \n",
    "\"Thriller\",\n",
    "\"Suspenseful\",\n",
    "\"Gripping\" ,\n",
    "\"Plot twist\"]"
   ]
  },
  {
   "cell_type": "code",
   "execution_count": 8,
   "metadata": {},
   "outputs": [
    {
     "data": {
      "text/plain": [
       "['Action', 'Mystery', 'Thriller', 'Suspenseful', 'Gripping', 'Plot twist']"
      ]
     },
     "execution_count": 8,
     "metadata": {},
     "output_type": "execute_result"
    }
   ],
   "source": [
    "target_keywords"
   ]
  },
  {
   "cell_type": "code",
   "execution_count": 10,
   "metadata": {},
   "outputs": [],
   "source": [
    "# Calculate word embeddings for target keywords\n",
    "target_embeddings = np.mean([nlp(keyword).vector for keyword in target_keywords], axis=0)"
   ]
  },
  {
   "cell_type": "code",
   "execution_count": 11,
   "metadata": {},
   "outputs": [],
   "source": [
    "\n",
    "# Function to calculate embeddings of movie keywords\n",
    "def calculate_embeddings(movie_keywords):\n",
    "    if isinstance(movie_keywords, list):\n",
    "        return np.mean([nlp(keyword).vector for keyword in movie_keywords], axis=0)    \n",
    "    return None\n"
   ]
  },
  {
   "cell_type": "code",
   "execution_count": 12,
   "metadata": {},
   "outputs": [],
   "source": [
    "\n",
    "# Function to calculate cosine similarity between target keywords and movie keywords\n",
    "def calculate_similarity(embedding):\n",
    "    #movie_embeddings = np.mean([nlp(keyword).vector for keyword in movie_keywords.split(\",\")], axis=0)\n",
    "    if not isinstance(embedding, np.ndarray):\n",
    "        return 0.0\n",
    "    similarity = cosine_similarity([target_embeddings], [embedding])[0][0]\n",
    "    return similarity\n"
   ]
  },
  {
   "cell_type": "code",
   "execution_count": 13,
   "metadata": {},
   "outputs": [
    {
     "name": "stdout",
     "output_type": "stream",
     "text": [
      "<class 'pandas.core.frame.DataFrame'>\n",
      "RangeIndex: 725816 entries, 0 to 725815\n",
      "Data columns (total 9 columns):\n",
      " #   Column      Non-Null Count   Dtype  \n",
      "---  ------      --------------   -----  \n",
      " 0   Unnamed: 0  725816 non-null  object \n",
      " 1   id          725806 non-null  object \n",
      " 2   title       725796 non-null  object \n",
      " 3   overview    605521 non-null  object \n",
      " 4   keywords    206610 non-null  object \n",
      " 5   genres      521777 non-null  object \n",
      " 6   cast        492136 non-null  object \n",
      " 7   director    210476 non-null  object \n",
      " 8   popularity  725796 non-null  float64\n",
      "dtypes: float64(1), object(8)\n",
      "memory usage: 49.8+ MB\n"
     ]
    }
   ],
   "source": [
    "tmdb_movies.info()"
   ]
  },
  {
   "cell_type": "code",
   "execution_count": 15,
   "metadata": {},
   "outputs": [],
   "source": [
    "tmdb_movies_keywords = tmdb_movies[tmdb_movies[\"keywords\"].isna() == False]"
   ]
  },
  {
   "cell_type": "code",
   "execution_count": null,
   "metadata": {},
   "outputs": [],
   "source": []
  },
  {
   "cell_type": "code",
   "execution_count": 27,
   "metadata": {},
   "outputs": [],
   "source": [
    "tmdb_movies_keywords = tmdb_movies_keywords.reset_index()\n"
   ]
  },
  {
   "cell_type": "code",
   "execution_count": 30,
   "metadata": {},
   "outputs": [],
   "source": [
    "del tmdb_movies_keywords['index']\n"
   ]
  },
  {
   "cell_type": "code",
   "execution_count": 31,
   "metadata": {},
   "outputs": [
    {
     "data": {
      "text/html": [
       "<div>\n",
       "<style scoped>\n",
       "    .dataframe tbody tr th:only-of-type {\n",
       "        vertical-align: middle;\n",
       "    }\n",
       "\n",
       "    .dataframe tbody tr th {\n",
       "        vertical-align: top;\n",
       "    }\n",
       "\n",
       "    .dataframe thead th {\n",
       "        text-align: right;\n",
       "    }\n",
       "</style>\n",
       "<table border=\"1\" class=\"dataframe\">\n",
       "  <thead>\n",
       "    <tr style=\"text-align: right;\">\n",
       "      <th></th>\n",
       "      <th>Unnamed: 0</th>\n",
       "      <th>id</th>\n",
       "      <th>title</th>\n",
       "      <th>overview</th>\n",
       "      <th>keywords</th>\n",
       "      <th>genres</th>\n",
       "      <th>cast</th>\n",
       "      <th>director</th>\n",
       "      <th>popularity</th>\n",
       "    </tr>\n",
       "  </thead>\n",
       "  <tbody>\n",
       "    <tr>\n",
       "      <th>0</th>\n",
       "      <td>0</td>\n",
       "      <td>2.0</td>\n",
       "      <td>Ariel</td>\n",
       "      <td>After the coal mine he works at closes and his...</td>\n",
       "      <td>['prison', 'underdog', 'helsinki, finland', 'f...</td>\n",
       "      <td>['Drama', 'Comedy', 'Romance', 'Crime']</td>\n",
       "      <td>['Matti Pellonpää', 'Esko Nikkari', 'Susanna H...</td>\n",
       "      <td>['Aki Kaurismäki']</td>\n",
       "      <td>23.170</td>\n",
       "    </tr>\n",
       "    <tr>\n",
       "      <th>1</th>\n",
       "      <td>1</td>\n",
       "      <td>3.0</td>\n",
       "      <td>Shadows in Paradise</td>\n",
       "      <td>Nikander, a rubbish collector and would-be ent...</td>\n",
       "      <td>['helsinki, finland', 'salesclerk', 'garbage']</td>\n",
       "      <td>['Drama', 'Comedy', 'Romance']</td>\n",
       "      <td>['Aki Kaurismäki', 'Kati Outinen', 'Matti Pell...</td>\n",
       "      <td>['Aki Kaurismäki']</td>\n",
       "      <td>35.528</td>\n",
       "    </tr>\n",
       "    <tr>\n",
       "      <th>2</th>\n",
       "      <td>2</td>\n",
       "      <td>5.0</td>\n",
       "      <td>Four Rooms</td>\n",
       "      <td>It's Ted the Bellhop's first night on the job....</td>\n",
       "      <td>['hotel', \"new year's eve\", 'witch', 'bet', 's...</td>\n",
       "      <td>['Comedy']</td>\n",
       "      <td>['Marisa Tomei', 'Antonio Banderas', 'Quentin ...</td>\n",
       "      <td>['Quentin Tarantino', 'Robert Rodriguez', 'All...</td>\n",
       "      <td>52.481</td>\n",
       "    </tr>\n",
       "    <tr>\n",
       "      <th>3</th>\n",
       "      <td>3</td>\n",
       "      <td>6.0</td>\n",
       "      <td>Judgment Night</td>\n",
       "      <td>Four young friends, while taking a shortcut en...</td>\n",
       "      <td>['drug dealer', 'chicago, illinois', 'escape',...</td>\n",
       "      <td>['Action', 'Crime', 'Thriller']</td>\n",
       "      <td>['Jeremy Piven', 'Stephen Dorff', 'Peter Green...</td>\n",
       "      <td>['Stephen Hopkins']</td>\n",
       "      <td>41.054</td>\n",
       "    </tr>\n",
       "    <tr>\n",
       "      <th>4</th>\n",
       "      <td>4</td>\n",
       "      <td>8.0</td>\n",
       "      <td>Life in Loops (A Megacities RMX)</td>\n",
       "      <td>Timo Novotny labels his new project an experim...</td>\n",
       "      <td>['megacities']</td>\n",
       "      <td>['Documentary']</td>\n",
       "      <td>NaN</td>\n",
       "      <td>['Timo Novotny']</td>\n",
       "      <td>10.613</td>\n",
       "    </tr>\n",
       "  </tbody>\n",
       "</table>\n",
       "</div>"
      ],
      "text/plain": [
       "  Unnamed: 0   id                             title  \\\n",
       "0          0  2.0                             Ariel   \n",
       "1          1  3.0               Shadows in Paradise   \n",
       "2          2  5.0                        Four Rooms   \n",
       "3          3  6.0                    Judgment Night   \n",
       "4          4  8.0  Life in Loops (A Megacities RMX)   \n",
       "\n",
       "                                            overview  \\\n",
       "0  After the coal mine he works at closes and his...   \n",
       "1  Nikander, a rubbish collector and would-be ent...   \n",
       "2  It's Ted the Bellhop's first night on the job....   \n",
       "3  Four young friends, while taking a shortcut en...   \n",
       "4  Timo Novotny labels his new project an experim...   \n",
       "\n",
       "                                            keywords  \\\n",
       "0  ['prison', 'underdog', 'helsinki, finland', 'f...   \n",
       "1     ['helsinki, finland', 'salesclerk', 'garbage']   \n",
       "2  ['hotel', \"new year's eve\", 'witch', 'bet', 's...   \n",
       "3  ['drug dealer', 'chicago, illinois', 'escape',...   \n",
       "4                                     ['megacities']   \n",
       "\n",
       "                                    genres  \\\n",
       "0  ['Drama', 'Comedy', 'Romance', 'Crime']   \n",
       "1           ['Drama', 'Comedy', 'Romance']   \n",
       "2                               ['Comedy']   \n",
       "3          ['Action', 'Crime', 'Thriller']   \n",
       "4                          ['Documentary']   \n",
       "\n",
       "                                                cast  \\\n",
       "0  ['Matti Pellonpää', 'Esko Nikkari', 'Susanna H...   \n",
       "1  ['Aki Kaurismäki', 'Kati Outinen', 'Matti Pell...   \n",
       "2  ['Marisa Tomei', 'Antonio Banderas', 'Quentin ...   \n",
       "3  ['Jeremy Piven', 'Stephen Dorff', 'Peter Green...   \n",
       "4                                                NaN   \n",
       "\n",
       "                                            director  popularity  \n",
       "0                                 ['Aki Kaurismäki']      23.170  \n",
       "1                                 ['Aki Kaurismäki']      35.528  \n",
       "2  ['Quentin Tarantino', 'Robert Rodriguez', 'All...      52.481  \n",
       "3                                ['Stephen Hopkins']      41.054  \n",
       "4                                   ['Timo Novotny']      10.613  "
      ]
     },
     "execution_count": 31,
     "metadata": {},
     "output_type": "execute_result"
    }
   ],
   "source": [
    "tmdb_movies_keywords.head()"
   ]
  },
  {
   "cell_type": "code",
   "execution_count": 44,
   "metadata": {},
   "outputs": [],
   "source": [
    "tmdb_movies_keywords[\"keywords\"] = tmdb_movies_keywords[\"keywords\"].apply(literal_eval)"
   ]
  },
  {
   "cell_type": "code",
   "execution_count": 45,
   "metadata": {},
   "outputs": [
    {
     "name": "stdout",
     "output_type": "stream",
     "text": [
      "Time taken to calculate 206610 embeddings was 6941.017413854599\n"
     ]
    }
   ],
   "source": [
    "# Apply the function to calculate similarity for each movie\n",
    "start_time = time.time()\n",
    "embeddings = tmdb_movies_keywords['keywords'].apply(calculate_embeddings)\n",
    "end_time = time.time()\n",
    "print(f\"Time taken to calculate {len(embeddings)} embeddings was {end_time-start_time}\")"
   ]
  },
  {
   "cell_type": "code",
   "execution_count": 46,
   "metadata": {},
   "outputs": [
    {
     "data": {
      "text/plain": [
       "0         [-2.2576869, -0.47951338, -2.29372, 1.1469345,...\n",
       "1         [-1.1752855, -1.2179189, -0.26367328, 1.306206...\n",
       "2         [-0.2116311, 0.17154092, -1.4510907, -1.112288...\n",
       "3         [-2.0025425, 0.6185693, -1.6088126, 0.08380668...\n",
       "4         [-0.026181, 0.94735, -3.1535, 1.3683, 1.9055, ...\n",
       "                                ...                        \n",
       "206605    [-3.3004348, 0.99205005, -2.1723251, -4.606670...\n",
       "206606    [1.6747501, 0.44393, -1.9986999, -1.7374, -1.1...\n",
       "206607    [-1.3433976, 0.91446555, -1.0329688, -0.026978...\n",
       "206608    [0.7474041, 2.8854349, -2.0129917, -1.6594416,...\n",
       "206609    [0.02367172, 0.4836885, -2.2233353, -0.5476513...\n",
       "Name: keywords, Length: 206610, dtype: object"
      ]
     },
     "execution_count": 46,
     "metadata": {},
     "output_type": "execute_result"
    }
   ],
   "source": [
    "embeddings"
   ]
  },
  {
   "cell_type": "code",
   "execution_count": null,
   "metadata": {},
   "outputs": [],
   "source": []
  },
  {
   "cell_type": "code",
   "execution_count": null,
   "metadata": {},
   "outputs": [],
   "source": []
  },
  {
   "cell_type": "code",
   "execution_count": 22,
   "metadata": {},
   "outputs": [],
   "source": [
    "# nlp(\"mafia\").similarity(nlp(\"crime\")), nlp_lg(\"mafia\").similarity(nlp_lg(\"crime\"))"
   ]
  },
  {
   "cell_type": "code",
   "execution_count": 43,
   "metadata": {},
   "outputs": [],
   "source": [
    "# res = []\n",
    "# for i in range(len(target_keywords)):\n",
    "#     keywords_sum = 0\n",
    "#     for j in range(len(tmdb_movies[\"tmdb_keywords\"][1])):\n",
    "#         keywords_sum += nlp(target_keywords[i]).similarity(nlp(tmdb_movies[\"tmdb_keywords\"][1][0]))\n",
    "#     res.append(keywords_sum/len(tmdb_movies[\"tmdb_keywords\"][1]))"
   ]
  },
  {
   "cell_type": "code",
   "execution_count": null,
   "metadata": {},
   "outputs": [],
   "source": []
  },
  {
   "cell_type": "code",
   "execution_count": 47,
   "metadata": {},
   "outputs": [],
   "source": [
    "score = []\n",
    "for i in range(len(embeddings)):\n",
    "    score.append((i, calculate_similarity(embeddings[i])))"
   ]
  },
  {
   "cell_type": "code",
   "execution_count": 49,
   "metadata": {},
   "outputs": [],
   "source": [
    "score.sort(key=lambda x: (x[1],x[0]), reverse=True)"
   ]
  },
  {
   "cell_type": "code",
   "execution_count": 50,
   "metadata": {},
   "outputs": [
    {
     "data": {
      "text/plain": [
       "[(185007, 0.69505614),\n",
       " (168551, 0.69187236),\n",
       " (199494, 0.686579),\n",
       " (177862, 0.686579),\n",
       " (176342, 0.686579)]"
      ]
     },
     "execution_count": 50,
     "metadata": {},
     "output_type": "execute_result"
    }
   ],
   "source": [
    "score[0:5]"
   ]
  },
  {
   "cell_type": "code",
   "execution_count": 52,
   "metadata": {},
   "outputs": [
    {
     "name": "stdout",
     "output_type": "stream",
     "text": [
      "Um Coelho de Verdade ['child'] 0.69505614\n",
      "Nocturno de amor ['scholarship', 'love triangle', 'piano lessons'] 0.69187236\n",
      "Tungsten Grey is the Warmest Colour nan 0.686579\n",
      "People Like Us nan 0.686579\n",
      "Disaster Preparedness ['woman director'] 0.686579\n",
      "Arcadia Lost nan 0.686579\n",
      "Deadly Target ['martial arts', 'arms dealer', 'cop'] 0.68254626\n",
      "Sudden Thunder ['revenge', 'murder', 'drugs'] 0.6750954\n",
      "Portals ['woman director'] 0.6721057\n",
      "Cuba libre nan 0.67196906\n"
     ]
    }
   ],
   "source": [
    "for x in score[0:10]:\n",
    "    print(tmdb_movies[\"title\"][x[0]], tmdb_movies[\"keywords\"][x[0]], x[1])"
   ]
  },
  {
   "cell_type": "code",
   "execution_count": 56,
   "metadata": {},
   "outputs": [
    {
     "data": {
      "text/html": [
       "<div>\n",
       "<style scoped>\n",
       "    .dataframe tbody tr th:only-of-type {\n",
       "        vertical-align: middle;\n",
       "    }\n",
       "\n",
       "    .dataframe tbody tr th {\n",
       "        vertical-align: top;\n",
       "    }\n",
       "\n",
       "    .dataframe thead th {\n",
       "        text-align: right;\n",
       "    }\n",
       "</style>\n",
       "<table border=\"1\" class=\"dataframe\">\n",
       "  <thead>\n",
       "    <tr style=\"text-align: right;\">\n",
       "      <th></th>\n",
       "      <th>Unnamed: 0</th>\n",
       "      <th>id</th>\n",
       "      <th>title</th>\n",
       "      <th>overview</th>\n",
       "      <th>keywords</th>\n",
       "      <th>genres</th>\n",
       "      <th>cast</th>\n",
       "      <th>director</th>\n",
       "      <th>popularity</th>\n",
       "    </tr>\n",
       "  </thead>\n",
       "  <tbody>\n",
       "    <tr>\n",
       "      <th>0</th>\n",
       "      <td>def append_to_file(src</td>\n",
       "      <td>dst):</td>\n",
       "      <td>NaN</td>\n",
       "      <td>NaN</td>\n",
       "      <td>NaN</td>\n",
       "      <td>NaN</td>\n",
       "      <td>NaN</td>\n",
       "      <td>NaN</td>\n",
       "      <td>NaN</td>\n",
       "    </tr>\n",
       "    <tr>\n",
       "      <th>1</th>\n",
       "      <td>with open(src</td>\n",
       "      <td>\"r\") as s:</td>\n",
       "      <td>NaN</td>\n",
       "      <td>NaN</td>\n",
       "      <td>NaN</td>\n",
       "      <td>NaN</td>\n",
       "      <td>NaN</td>\n",
       "      <td>NaN</td>\n",
       "      <td>NaN</td>\n",
       "    </tr>\n",
       "    <tr>\n",
       "      <th>2</th>\n",
       "      <td>s.readline()</td>\n",
       "      <td>NaN</td>\n",
       "      <td>NaN</td>\n",
       "      <td>NaN</td>\n",
       "      <td>NaN</td>\n",
       "      <td>NaN</td>\n",
       "      <td>NaN</td>\n",
       "      <td>NaN</td>\n",
       "      <td>NaN</td>\n",
       "    </tr>\n",
       "    <tr>\n",
       "      <th>3</th>\n",
       "      <td>content = s.read()</td>\n",
       "      <td>NaN</td>\n",
       "      <td>NaN</td>\n",
       "      <td>NaN</td>\n",
       "      <td>NaN</td>\n",
       "      <td>NaN</td>\n",
       "      <td>NaN</td>\n",
       "      <td>NaN</td>\n",
       "      <td>NaN</td>\n",
       "    </tr>\n",
       "    <tr>\n",
       "      <th>4</th>\n",
       "      <td>with open (dst</td>\n",
       "      <td>\"a\") as d:</td>\n",
       "      <td>NaN</td>\n",
       "      <td>NaN</td>\n",
       "      <td>NaN</td>\n",
       "      <td>NaN</td>\n",
       "      <td>NaN</td>\n",
       "      <td>NaN</td>\n",
       "      <td>NaN</td>\n",
       "    </tr>\n",
       "  </tbody>\n",
       "</table>\n",
       "</div>"
      ],
      "text/plain": [
       "                   Unnamed: 0           id title overview keywords genres  \\\n",
       "0      def append_to_file(src        dst):   NaN      NaN      NaN    NaN   \n",
       "1               with open(src   \"r\") as s:   NaN      NaN      NaN    NaN   \n",
       "2                s.readline()          NaN   NaN      NaN      NaN    NaN   \n",
       "3          content = s.read()          NaN   NaN      NaN      NaN    NaN   \n",
       "4              with open (dst   \"a\") as d:   NaN      NaN      NaN    NaN   \n",
       "\n",
       "  cast director  popularity  \n",
       "0  NaN      NaN         NaN  \n",
       "1  NaN      NaN         NaN  \n",
       "2  NaN      NaN         NaN  \n",
       "3  NaN      NaN         NaN  \n",
       "4  NaN      NaN         NaN  "
      ]
     },
     "execution_count": 56,
     "metadata": {},
     "output_type": "execute_result"
    }
   ],
   "source": [
    "tmdb_movies.head()"
   ]
  },
  {
   "cell_type": "code",
   "execution_count": 14,
   "metadata": {},
   "outputs": [],
   "source": [
    "temp = []\n",
    "for i in range(len(embeddings)):\n",
    "    temp.append((i, calculate_similarity(embeddings[i])))"
   ]
  },
  {
   "cell_type": "code",
   "execution_count": 15,
   "metadata": {},
   "outputs": [
    {
     "data": {
      "text/plain": [
       "(5934, 0.7153774)"
      ]
     },
     "execution_count": 15,
     "metadata": {},
     "output_type": "execute_result"
    }
   ],
   "source": [
    "temp[5934]"
   ]
  },
  {
   "cell_type": "code",
   "execution_count": null,
   "metadata": {},
   "outputs": [],
   "source": []
  },
  {
   "cell_type": "code",
   "execution_count": null,
   "metadata": {},
   "outputs": [],
   "source": []
  },
  {
   "cell_type": "code",
   "execution_count": null,
   "metadata": {},
   "outputs": [],
   "source": []
  },
  {
   "cell_type": "code",
   "execution_count": null,
   "metadata": {},
   "outputs": [],
   "source": []
  },
  {
   "cell_type": "code",
   "execution_count": null,
   "metadata": {},
   "outputs": [],
   "source": []
  }
 ],
 "metadata": {
  "kernelspec": {
   "display_name": "myenv",
   "language": "python",
   "name": "python3"
  },
  "language_info": {
   "codemirror_mode": {
    "name": "ipython",
    "version": 3
   },
   "file_extension": ".py",
   "mimetype": "text/x-python",
   "name": "python",
   "nbconvert_exporter": "python",
   "pygments_lexer": "ipython3",
   "version": "3.11.4"
  }
 },
 "nbformat": 4,
 "nbformat_minor": 2
}
