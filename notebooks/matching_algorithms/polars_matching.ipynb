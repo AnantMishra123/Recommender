{
 "cells": [
  {
   "cell_type": "code",
   "execution_count": 3,
   "metadata": {},
   "outputs": [],
   "source": [
    "import polars as pd\n",
    "from sklearn.metrics.pairwise import cosine_similarity\n",
    "import spacy\n",
    "import numpy as np\n",
    "from ast import literal_eval\n",
    "import time\n"
   ]
  },
  {
   "cell_type": "code",
   "execution_count": 2,
   "metadata": {},
   "outputs": [],
   "source": [
    "nlp = spacy.load(\"en_core_web_lg\")  # This loads the pre-trained word vectors"
   ]
  },
  {
   "cell_type": "code",
   "execution_count": 4,
   "metadata": {},
   "outputs": [],
   "source": [
    "tmdb_movies = pd.read_csv(\"../../data/clean/final_movies.csv\") #load dataset"
   ]
  },
  {
   "cell_type": "code",
   "execution_count": 9,
   "metadata": {},
   "outputs": [
    {
     "data": {
      "text/plain": [
       "(shape: (5, 9)\n",
       " ┌─────┬─────┬─────────────┬─────────────┬───┬─────────────┬─────────────┬─────────────┬────────────┐\n",
       " │     ┆ id  ┆ title       ┆ overview    ┆ … ┆ genres      ┆ cast        ┆ director    ┆ popularity │\n",
       " │ --- ┆ --- ┆ ---         ┆ ---         ┆   ┆ ---         ┆ ---         ┆ ---         ┆ ---        │\n",
       " │ i64 ┆ f64 ┆ str         ┆ str         ┆   ┆ str         ┆ str         ┆ str         ┆ f64        │\n",
       " ╞═════╪═════╪═════════════╪═════════════╪═══╪═════════════╪═════════════╪═════════════╪════════════╡\n",
       " │ 0   ┆ 2.0 ┆ Ariel       ┆ After the   ┆ … ┆ ['Drama',   ┆ ['Matti     ┆ ['Aki Kauri ┆ 23.17      │\n",
       " │     ┆     ┆             ┆ coal mine   ┆   ┆ 'Comedy',   ┆ Pellonpää', ┆ smäki']     ┆            │\n",
       " │     ┆     ┆             ┆ he works a… ┆   ┆ 'Romance',… ┆ 'Esko Nikk… ┆             ┆            │\n",
       " │ 1   ┆ 3.0 ┆ Shadows in  ┆ Nikander, a ┆ … ┆ ['Drama',   ┆ ['Aki Kauri ┆ ['Aki Kauri ┆ 35.528     │\n",
       " │     ┆     ┆ Paradise    ┆ rubbish     ┆   ┆ 'Comedy',   ┆ smäki',     ┆ smäki']     ┆            │\n",
       " │     ┆     ┆             ┆ collector … ┆   ┆ 'Romance']  ┆ 'Kati       ┆             ┆            │\n",
       " │     ┆     ┆             ┆             ┆   ┆             ┆ Outin…      ┆             ┆            │\n",
       " │ 2   ┆ 5.0 ┆ Four Rooms  ┆ It's Ted    ┆ … ┆ ['Comedy']  ┆ ['Marisa    ┆ ['Quentin   ┆ 52.481     │\n",
       " │     ┆     ┆             ┆ the         ┆   ┆             ┆ Tomei',     ┆ Tarantino', ┆            │\n",
       " │     ┆     ┆             ┆ Bellhop's   ┆   ┆             ┆ 'Antonio    ┆ 'Robert …   ┆            │\n",
       " │     ┆     ┆             ┆ first n…    ┆   ┆             ┆ Band…       ┆             ┆            │\n",
       " │ 3   ┆ 6.0 ┆ Judgment    ┆ Four young  ┆ … ┆ ['Action',  ┆ ['Jeremy    ┆ ['Stephen   ┆ 41.054     │\n",
       " │     ┆     ┆ Night       ┆ friends,    ┆   ┆ 'Crime',    ┆ Piven',     ┆ Hopkins']   ┆            │\n",
       " │     ┆     ┆             ┆ while taki… ┆   ┆ 'Thriller'… ┆ 'Stephen    ┆             ┆            │\n",
       " │     ┆     ┆             ┆             ┆   ┆             ┆ Dorf…       ┆             ┆            │\n",
       " │ 4   ┆ 8.0 ┆ Life in     ┆ Timo        ┆ … ┆ ['Documenta ┆ null        ┆ ['Timo      ┆ 10.613     │\n",
       " │     ┆     ┆ Loops (A    ┆ Novotny     ┆   ┆ ry']        ┆             ┆ Novotny']   ┆            │\n",
       " │     ┆     ┆ Megacities  ┆ labels his  ┆   ┆             ┆             ┆             ┆            │\n",
       " │     ┆     ┆ RM…         ┆ new pr…     ┆   ┆             ┆             ┆             ┆            │\n",
       " └─────┴─────┴─────────────┴─────────────┴───┴─────────────┴─────────────┴─────────────┴────────────┘,\n",
       " (725796, 9))"
      ]
     },
     "execution_count": 9,
     "metadata": {},
     "output_type": "execute_result"
    }
   ],
   "source": [
    "tmdb_movies.head(), tmdb_movies.shape"
   ]
  },
  {
   "cell_type": "code",
   "execution_count": 20,
   "metadata": {},
   "outputs": [],
   "source": [
    "# Sample target keywords\n",
    "target_keywords = [\"Action\",\"Mystery\", \n",
    "\"Thriller\",\n",
    "\"Suspenseful\",\n",
    "\"Gripping\" ,\n",
    "\"Plot twist\"]"
   ]
  },
  {
   "cell_type": "code",
   "execution_count": 21,
   "metadata": {},
   "outputs": [],
   "source": [
    "# Calculate word embeddings for target keywords\n",
    "target_embeddings = np.mean([nlp(keyword).vector for keyword in target_keywords], axis=0)"
   ]
  },
  {
   "cell_type": "code",
   "execution_count": 41,
   "metadata": {},
   "outputs": [],
   "source": [
    "\n",
    "# Function to calculate embeddings of movie keywords\n",
    "def calculate_embeddings(movie_keywords):\n",
    "    if list(movie_keywords):#isinstance(movie_keywords, list):\n",
    "        return np.mean([nlp(keyword).vector for keyword in movie_keywords], axis=0)    \n",
    "    return None\n"
   ]
  },
  {
   "cell_type": "code",
   "execution_count": 23,
   "metadata": {},
   "outputs": [],
   "source": [
    "\n",
    "# Function to calculate cosine similarity between target keywords and movie keywords\n",
    "def calculate_similarity(embedding):\n",
    "    #movie_embeddings = np.mean([nlp(keyword).vector for keyword in movie_keywords.split(\",\")], axis=0)\n",
    "    if not isinstance(embedding, np.ndarray):\n",
    "        return 0.0\n",
    "    similarity = cosine_similarity([target_embeddings], [embedding])[0][0]\n",
    "    return similarity\n"
   ]
  },
  {
   "cell_type": "code",
   "execution_count": 6,
   "metadata": {},
   "outputs": [],
   "source": [
    "tmdb_movies_keywords = tmdb_movies.drop_nulls()"
   ]
  },
  {
   "cell_type": "code",
   "execution_count": 7,
   "metadata": {},
   "outputs": [
    {
     "data": {
      "text/plain": [
       "(90344, 9)"
      ]
     },
     "execution_count": 7,
     "metadata": {},
     "output_type": "execute_result"
    }
   ],
   "source": [
    "tmdb_movies_keywords.shape"
   ]
  },
  {
   "cell_type": "code",
   "execution_count": 11,
   "metadata": {},
   "outputs": [],
   "source": [
    "tmdb_movies_keywords.write_csv(\"../../data/clean/no_nulls.csv\")"
   ]
  },
  {
   "cell_type": "code",
   "execution_count": 34,
   "metadata": {},
   "outputs": [
    {
     "name": "stderr",
     "output_type": "stream",
     "text": [
      "/var/folders/mm/b26l1fbn3lgg74ssxs6chhsh0000gn/T/ipykernel_75947/976239161.py:1: MapWithoutReturnDtypeWarning: Calling `map_elements` without specifying `return_dtype` can lead to unpredictable results. Specify `return_dtype` to silence this warning.\n",
      "  tmdb_movies_keywords = tmdb_movies_keywords.with_columns(pd.col(\"keywords\").map_elements(literal_eval))\n"
     ]
    }
   ],
   "source": [
    "tmdb_movies_keywords = tmdb_movies_keywords.with_columns(pd.col(\"keywords\").map_elements(literal_eval))"
   ]
  },
  {
   "cell_type": "code",
   "execution_count": 43,
   "metadata": {},
   "outputs": [
    {
     "name": "stderr",
     "output_type": "stream",
     "text": [
      "/var/folders/mm/b26l1fbn3lgg74ssxs6chhsh0000gn/T/ipykernel_75947/1157168331.py:3: MapWithoutReturnDtypeWarning: Calling `map_elements` without specifying `return_dtype` can lead to unpredictable results. Specify `return_dtype` to silence this warning.\n",
      "  embeddings = tmdb_movies_keywords.with_columns(pd.col(\"keywords\").map_elements(calculate_embeddings))[\"keywords\"]\n"
     ]
    },
    {
     "name": "stdout",
     "output_type": "stream",
     "text": [
      "Time taken to calculate 90344 embeddings was 5436.755422830582\n"
     ]
    }
   ],
   "source": [
    "# Apply the function to calculate similarity for each movie\n",
    "start_time = time.time()\n",
    "embeddings = tmdb_movies_keywords.with_columns(pd.col(\"keywords\").map_elements(calculate_embeddings))[\"keywords\"]\n",
    "end_time = time.time()\n",
    "print(f\"Time taken to calculate {len(embeddings)} embeddings was {end_time-start_time}\")"
   ]
  },
  {
   "cell_type": "code",
   "execution_count": 45,
   "metadata": {},
   "outputs": [],
   "source": [
    "score = []\n",
    "for i in range(len(embeddings)):\n",
    "    score.append((i, calculate_similarity(embeddings[i])))"
   ]
  },
  {
   "cell_type": "code",
   "execution_count": 46,
   "metadata": {},
   "outputs": [],
   "source": [
    "score.sort(key=lambda x: (x[1],x[0]), reverse=True)"
   ]
  },
  {
   "cell_type": "code",
   "execution_count": 47,
   "metadata": {},
   "outputs": [
    {
     "data": {
      "text/plain": [
       "[(46850, 0.6543091),\n",
       " (42030, 0.65016574),\n",
       " (2920, 0.65016574),\n",
       " (58760, 0.65006727),\n",
       " (67154, 0.6461362)]"
      ]
     },
     "execution_count": 47,
     "metadata": {},
     "output_type": "execute_result"
    }
   ],
   "source": [
    "score[0:5]"
   ]
  },
  {
   "cell_type": "code",
   "execution_count": 49,
   "metadata": {},
   "outputs": [
    {
     "name": "stdout",
     "output_type": "stream",
     "text": [
      "Befriend and Betray None 0.6543091\n",
      "Rika barn leka bäst None 0.65016574\n",
      "Amori, letti e tradimenti ['beautiful\\xa0 woman', 'sex comedy'] 0.65016574\n",
      "Taken 2 ['kidnapping', 'fbi', 'turkey', 'police chase', 'teenage daughter', 'stealing a car', 'ex-husband ex-wife relationship', 'albanian', 'u.s. embassy'] 0.65006727\n",
      "Two Chips and a Miss ['short film'] 0.6461362\n",
      "Frisian Terror ['gore', 'medieval', 'horror comedy'] 0.6440673\n",
      "Holy Man ['salesclerk', 'tv ratings', 'guru', 'television producer', 'religion'] 0.6344439\n",
      "The Debt None 0.62841535\n",
      "Léon Morin, Priest ['faith', 'widow', 'world war ii', 'atheist', 'confessional', 'catholic priest', 'occupied france', 'nouvelle vague'] 0.6270883\n",
      "Hobo with a Shotgun ['prostitute', 'shotgun', 'dystopia', 'pimp', 'vigilante', 'massacre', 'brutality', 'white suit', 'psychotronic'] 0.6270883\n"
     ]
    }
   ],
   "source": [
    "for x in score[0:10]:\n",
    "    print(tmdb_movies[\"title\"][x[0]], tmdb_movies[\"keywords\"][x[0]], x[1])"
   ]
  },
  {
   "cell_type": "code",
   "execution_count": 50,
   "metadata": {},
   "outputs": [
    {
     "data": {
      "text/html": [
       "<div><style>\n",
       ".dataframe > thead > tr,\n",
       ".dataframe > tbody > tr {\n",
       "  text-align: right;\n",
       "  white-space: pre-wrap;\n",
       "}\n",
       "</style>\n",
       "<small>shape: (5, 9)</small><table border=\"1\" class=\"dataframe\"><thead><tr><th></th><th>id</th><th>title</th><th>overview</th><th>keywords</th><th>genres</th><th>cast</th><th>director</th><th>popularity</th></tr><tr><td>i64</td><td>f64</td><td>str</td><td>str</td><td>str</td><td>str</td><td>str</td><td>str</td><td>f64</td></tr></thead><tbody><tr><td>0</td><td>2.0</td><td>&quot;Ariel&quot;</td><td>&quot;After the coal mine he works a…</td><td>&quot;[&#x27;prison&#x27;, &#x27;underdog&#x27;, &#x27;helsin…</td><td>&quot;[&#x27;Drama&#x27;, &#x27;Comedy&#x27;, &#x27;Romance&#x27;,…</td><td>&quot;[&#x27;Matti Pellonpää&#x27;, &#x27;Esko Nikk…</td><td>&quot;[&#x27;Aki Kaurismäki&#x27;]&quot;</td><td>23.17</td></tr><tr><td>1</td><td>3.0</td><td>&quot;Shadows in Paradise&quot;</td><td>&quot;Nikander, a rubbish collector …</td><td>&quot;[&#x27;helsinki, finland&#x27;, &#x27;salescl…</td><td>&quot;[&#x27;Drama&#x27;, &#x27;Comedy&#x27;, &#x27;Romance&#x27;]&quot;</td><td>&quot;[&#x27;Aki Kaurismäki&#x27;, &#x27;Kati Outin…</td><td>&quot;[&#x27;Aki Kaurismäki&#x27;]&quot;</td><td>35.528</td></tr><tr><td>2</td><td>5.0</td><td>&quot;Four Rooms&quot;</td><td>&quot;It&#x27;s Ted the Bellhop&#x27;s first n…</td><td>&quot;[&#x27;hotel&#x27;, &quot;new year&#x27;s eve&quot;, &#x27;w…</td><td>&quot;[&#x27;Comedy&#x27;]&quot;</td><td>&quot;[&#x27;Marisa Tomei&#x27;, &#x27;Antonio Band…</td><td>&quot;[&#x27;Quentin Tarantino&#x27;, &#x27;Robert …</td><td>52.481</td></tr><tr><td>3</td><td>6.0</td><td>&quot;Judgment Night&quot;</td><td>&quot;Four young friends, while taki…</td><td>&quot;[&#x27;drug dealer&#x27;, &#x27;chicago, illi…</td><td>&quot;[&#x27;Action&#x27;, &#x27;Crime&#x27;, &#x27;Thriller&#x27;…</td><td>&quot;[&#x27;Jeremy Piven&#x27;, &#x27;Stephen Dorf…</td><td>&quot;[&#x27;Stephen Hopkins&#x27;]&quot;</td><td>41.054</td></tr><tr><td>4</td><td>8.0</td><td>&quot;Life in Loops (A Megacities RM…</td><td>&quot;Timo Novotny labels his new pr…</td><td>&quot;[&#x27;megacities&#x27;]&quot;</td><td>&quot;[&#x27;Documentary&#x27;]&quot;</td><td>null</td><td>&quot;[&#x27;Timo Novotny&#x27;]&quot;</td><td>10.613</td></tr></tbody></table></div>"
      ],
      "text/plain": [
       "shape: (5, 9)\n",
       "┌─────┬─────┬─────────────┬─────────────┬───┬─────────────┬─────────────┬─────────────┬────────────┐\n",
       "│     ┆ id  ┆ title       ┆ overview    ┆ … ┆ genres      ┆ cast        ┆ director    ┆ popularity │\n",
       "│ --- ┆ --- ┆ ---         ┆ ---         ┆   ┆ ---         ┆ ---         ┆ ---         ┆ ---        │\n",
       "│ i64 ┆ f64 ┆ str         ┆ str         ┆   ┆ str         ┆ str         ┆ str         ┆ f64        │\n",
       "╞═════╪═════╪═════════════╪═════════════╪═══╪═════════════╪═════════════╪═════════════╪════════════╡\n",
       "│ 0   ┆ 2.0 ┆ Ariel       ┆ After the   ┆ … ┆ ['Drama',   ┆ ['Matti     ┆ ['Aki Kauri ┆ 23.17      │\n",
       "│     ┆     ┆             ┆ coal mine   ┆   ┆ 'Comedy',   ┆ Pellonpää', ┆ smäki']     ┆            │\n",
       "│     ┆     ┆             ┆ he works a… ┆   ┆ 'Romance',… ┆ 'Esko Nikk… ┆             ┆            │\n",
       "│ 1   ┆ 3.0 ┆ Shadows in  ┆ Nikander, a ┆ … ┆ ['Drama',   ┆ ['Aki Kauri ┆ ['Aki Kauri ┆ 35.528     │\n",
       "│     ┆     ┆ Paradise    ┆ rubbish     ┆   ┆ 'Comedy',   ┆ smäki',     ┆ smäki']     ┆            │\n",
       "│     ┆     ┆             ┆ collector … ┆   ┆ 'Romance']  ┆ 'Kati       ┆             ┆            │\n",
       "│     ┆     ┆             ┆             ┆   ┆             ┆ Outin…      ┆             ┆            │\n",
       "│ 2   ┆ 5.0 ┆ Four Rooms  ┆ It's Ted    ┆ … ┆ ['Comedy']  ┆ ['Marisa    ┆ ['Quentin   ┆ 52.481     │\n",
       "│     ┆     ┆             ┆ the         ┆   ┆             ┆ Tomei',     ┆ Tarantino', ┆            │\n",
       "│     ┆     ┆             ┆ Bellhop's   ┆   ┆             ┆ 'Antonio    ┆ 'Robert …   ┆            │\n",
       "│     ┆     ┆             ┆ first n…    ┆   ┆             ┆ Band…       ┆             ┆            │\n",
       "│ 3   ┆ 6.0 ┆ Judgment    ┆ Four young  ┆ … ┆ ['Action',  ┆ ['Jeremy    ┆ ['Stephen   ┆ 41.054     │\n",
       "│     ┆     ┆ Night       ┆ friends,    ┆   ┆ 'Crime',    ┆ Piven',     ┆ Hopkins']   ┆            │\n",
       "│     ┆     ┆             ┆ while taki… ┆   ┆ 'Thriller'… ┆ 'Stephen    ┆             ┆            │\n",
       "│     ┆     ┆             ┆             ┆   ┆             ┆ Dorf…       ┆             ┆            │\n",
       "│ 4   ┆ 8.0 ┆ Life in     ┆ Timo        ┆ … ┆ ['Documenta ┆ null        ┆ ['Timo      ┆ 10.613     │\n",
       "│     ┆     ┆ Loops (A    ┆ Novotny     ┆   ┆ ry']        ┆             ┆ Novotny']   ┆            │\n",
       "│     ┆     ┆ Megacities  ┆ labels his  ┆   ┆             ┆             ┆             ┆            │\n",
       "│     ┆     ┆ RM…         ┆ new pr…     ┆   ┆             ┆             ┆             ┆            │\n",
       "└─────┴─────┴─────────────┴─────────────┴───┴─────────────┴─────────────┴─────────────┴────────────┘"
      ]
     },
     "execution_count": 50,
     "metadata": {},
     "output_type": "execute_result"
    }
   ],
   "source": [
    "tmdb_movies.head()"
   ]
  },
  {
   "cell_type": "code",
   "execution_count": 1,
   "metadata": {},
   "outputs": [
    {
     "ename": "NameError",
     "evalue": "name 'tmdb_movies_keywords' is not defined",
     "output_type": "error",
     "traceback": [
      "\u001b[0;31m---------------------------------------------------------------------------\u001b[0m",
      "\u001b[0;31mNameError\u001b[0m                                 Traceback (most recent call last)",
      "Cell \u001b[0;32mIn[1], line 1\u001b[0m\n\u001b[0;32m----> 1\u001b[0m \u001b[43mtmdb_movies_keywords\u001b[49m\u001b[38;5;241m.\u001b[39mshape\n",
      "\u001b[0;31mNameError\u001b[0m: name 'tmdb_movies_keywords' is not defined"
     ]
    }
   ],
   "source": []
  },
  {
   "cell_type": "code",
   "execution_count": null,
   "metadata": {},
   "outputs": [],
   "source": []
  }
 ],
 "metadata": {
  "kernelspec": {
   "display_name": "recenv",
   "language": "python",
   "name": "python3"
  },
  "language_info": {
   "codemirror_mode": {
    "name": "ipython",
    "version": 3
   },
   "file_extension": ".py",
   "mimetype": "text/x-python",
   "name": "python",
   "nbconvert_exporter": "python",
   "pygments_lexer": "ipython3",
   "version": "3.11.4"
  }
 },
 "nbformat": 4,
 "nbformat_minor": 2
}
