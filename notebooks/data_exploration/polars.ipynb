{
 "cells": [
  {
   "cell_type": "code",
   "execution_count": 1,
   "metadata": {},
   "outputs": [],
   "source": [
    "import pandas as pd\n",
    "from ast import literal_eval"
   ]
  },
  {
   "cell_type": "code",
   "execution_count": 2,
   "metadata": {},
   "outputs": [],
   "source": [
    "movies_id = pd.read_csv(\"../data/movie_ids.csv\")"
   ]
  },
  {
   "cell_type": "code",
   "execution_count": 3,
   "metadata": {},
   "outputs": [
    {
     "data": {
      "text/plain": [
       "(916746, 6)"
      ]
     },
     "execution_count": 3,
     "metadata": {},
     "output_type": "execute_result"
    }
   ],
   "source": [
    "movies_id.shape"
   ]
  },
  {
   "cell_type": "code",
   "execution_count": 4,
   "metadata": {},
   "outputs": [
    {
     "data": {
      "text/plain": [
       "916746"
      ]
     },
     "execution_count": 4,
     "metadata": {},
     "output_type": "execute_result"
    }
   ],
   "source": [
    "len(set(movies_id[\"id\"].to_list()))"
   ]
  },
  {
   "cell_type": "code",
   "execution_count": 87,
   "metadata": {},
   "outputs": [],
   "source": [
    "data = pd.read_csv(\"../data/async_movie_db_300k_700k.csv\")"
   ]
  },
  {
   "cell_type": "code",
   "execution_count": 88,
   "metadata": {},
   "outputs": [
    {
     "data": {
      "text/plain": [
       "(401602, 28)"
      ]
     },
     "execution_count": 88,
     "metadata": {},
     "output_type": "execute_result"
    }
   ],
   "source": [
    "data.shape"
   ]
  },
  {
   "cell_type": "code",
   "execution_count": 89,
   "metadata": {},
   "outputs": [],
   "source": [
    "na_indices = data[data[\"id\"].isna() | data[\"title\"].isna()].index"
   ]
  },
  {
   "cell_type": "code",
   "execution_count": 90,
   "metadata": {},
   "outputs": [
    {
     "data": {
      "text/plain": [
       "(Index([1973, 1974, 2724, 2725, 2726], dtype='int64'), 71893)"
      ]
     },
     "execution_count": 90,
     "metadata": {},
     "output_type": "execute_result"
    }
   ],
   "source": [
    "na_indices[0:5], len(na_indices)"
   ]
  },
  {
   "cell_type": "code",
   "execution_count": 91,
   "metadata": {},
   "outputs": [],
   "source": [
    "clean_data = data.drop(axis=1, index=na_indices)"
   ]
  },
  {
   "cell_type": "code",
   "execution_count": 92,
   "metadata": {},
   "outputs": [],
   "source": [
    "clean_data = clean_data.drop_duplicates(subset=[\"id\", \"overview\"])"
   ]
  },
  {
   "cell_type": "code",
   "execution_count": 93,
   "metadata": {},
   "outputs": [
    {
     "data": {
      "text/plain": [
       "((329708, 28),\n",
       " Index(['Unnamed: 0', 'adult', 'backdrop_path', 'belongs_to_collection',\n",
       "        'budget', 'genres', 'homepage', 'id', 'imdb_id', 'original_language',\n",
       "        'original_title', 'overview', 'popularity', 'poster_path',\n",
       "        'production_companies', 'production_countries', 'release_date',\n",
       "        'revenue', 'runtime', 'spoken_languages', 'status', 'tagline', 'title',\n",
       "        'video', 'vote_average', 'vote_count', 'keywords', 'credits'],\n",
       "       dtype='object'))"
      ]
     },
     "execution_count": 93,
     "metadata": {},
     "output_type": "execute_result"
    }
   ],
   "source": [
    "clean_data.shape, clean_data.columns"
   ]
  },
  {
   "cell_type": "code",
   "execution_count": 94,
   "metadata": {},
   "outputs": [],
   "source": [
    "main_data = clean_data[[\"id\", \"title\", \"overview\", \"credits\", \"keywords\", \"genres\"]]"
   ]
  },
  {
   "cell_type": "code",
   "execution_count": 95,
   "metadata": {},
   "outputs": [
    {
     "data": {
      "text/html": [
       "<div>\n",
       "<style scoped>\n",
       "    .dataframe tbody tr th:only-of-type {\n",
       "        vertical-align: middle;\n",
       "    }\n",
       "\n",
       "    .dataframe tbody tr th {\n",
       "        vertical-align: top;\n",
       "    }\n",
       "\n",
       "    .dataframe thead th {\n",
       "        text-align: right;\n",
       "    }\n",
       "</style>\n",
       "<table border=\"1\" class=\"dataframe\">\n",
       "  <thead>\n",
       "    <tr style=\"text-align: right;\">\n",
       "      <th></th>\n",
       "      <th>id</th>\n",
       "      <th>title</th>\n",
       "      <th>overview</th>\n",
       "      <th>credits</th>\n",
       "      <th>keywords</th>\n",
       "      <th>genres</th>\n",
       "    </tr>\n",
       "  </thead>\n",
       "  <tbody>\n",
       "    <tr>\n",
       "      <th>0</th>\n",
       "      <td>442113.0</td>\n",
       "      <td>I'm Okay</td>\n",
       "      <td>An anti-romantic comedy where we watch a coupl...</td>\n",
       "      <td>{'cast': [], 'crew': [{'adult': False, 'gender...</td>\n",
       "      <td>{'keywords': []}</td>\n",
       "      <td>[]</td>\n",
       "    </tr>\n",
       "    <tr>\n",
       "      <th>2</th>\n",
       "      <td>442114.0</td>\n",
       "      <td>Smoke</td>\n",
       "      <td>NaN</td>\n",
       "      <td>{'cast': [], 'crew': [{'adult': False, 'gender...</td>\n",
       "      <td>{'keywords': []}</td>\n",
       "      <td>[]</td>\n",
       "    </tr>\n",
       "    <tr>\n",
       "      <th>3</th>\n",
       "      <td>442115.0</td>\n",
       "      <td>What's Happening at Local 70</td>\n",
       "      <td>Striking workers in one Chicago unemployment c...</td>\n",
       "      <td>{'cast': [], 'crew': [{'adult': False, 'gender...</td>\n",
       "      <td>{'keywords': []}</td>\n",
       "      <td>[{'id': 99, 'name': 'Documentary'}]</td>\n",
       "    </tr>\n",
       "    <tr>\n",
       "      <th>4</th>\n",
       "      <td>442116.0</td>\n",
       "      <td>Big Boss</td>\n",
       "      <td>Conflicts between power-hungry triad gangsters...</td>\n",
       "      <td>{'cast': [{'adult': False, 'gender': 2, 'id': ...</td>\n",
       "      <td>{'keywords': []}</td>\n",
       "      <td>[{'id': 28, 'name': 'Action'}]</td>\n",
       "    </tr>\n",
       "    <tr>\n",
       "      <th>5</th>\n",
       "      <td>442117.0</td>\n",
       "      <td>Pulse</td>\n",
       "      <td>A gay disabled teenage boy changes into the bo...</td>\n",
       "      <td>{'cast': [{'adult': False, 'gender': 2, 'id': ...</td>\n",
       "      <td>{'keywords': [{'id': 158718, 'name': 'lgbt'}, ...</td>\n",
       "      <td>[{'id': 18, 'name': 'Drama'}, {'id': 14, 'name...</td>\n",
       "    </tr>\n",
       "  </tbody>\n",
       "</table>\n",
       "</div>"
      ],
      "text/plain": [
       "         id                         title  \\\n",
       "0  442113.0                      I'm Okay   \n",
       "2  442114.0                         Smoke   \n",
       "3  442115.0  What's Happening at Local 70   \n",
       "4  442116.0                      Big Boss   \n",
       "5  442117.0                         Pulse   \n",
       "\n",
       "                                            overview  \\\n",
       "0  An anti-romantic comedy where we watch a coupl...   \n",
       "2                                                NaN   \n",
       "3  Striking workers in one Chicago unemployment c...   \n",
       "4  Conflicts between power-hungry triad gangsters...   \n",
       "5  A gay disabled teenage boy changes into the bo...   \n",
       "\n",
       "                                             credits  \\\n",
       "0  {'cast': [], 'crew': [{'adult': False, 'gender...   \n",
       "2  {'cast': [], 'crew': [{'adult': False, 'gender...   \n",
       "3  {'cast': [], 'crew': [{'adult': False, 'gender...   \n",
       "4  {'cast': [{'adult': False, 'gender': 2, 'id': ...   \n",
       "5  {'cast': [{'adult': False, 'gender': 2, 'id': ...   \n",
       "\n",
       "                                            keywords  \\\n",
       "0                                   {'keywords': []}   \n",
       "2                                   {'keywords': []}   \n",
       "3                                   {'keywords': []}   \n",
       "4                                   {'keywords': []}   \n",
       "5  {'keywords': [{'id': 158718, 'name': 'lgbt'}, ...   \n",
       "\n",
       "                                              genres  \n",
       "0                                                 []  \n",
       "2                                                 []  \n",
       "3                [{'id': 99, 'name': 'Documentary'}]  \n",
       "4                     [{'id': 28, 'name': 'Action'}]  \n",
       "5  [{'id': 18, 'name': 'Drama'}, {'id': 14, 'name...  "
      ]
     },
     "execution_count": 95,
     "metadata": {},
     "output_type": "execute_result"
    }
   ],
   "source": [
    "main_data.head()"
   ]
  },
  {
   "cell_type": "code",
   "execution_count": 96,
   "metadata": {},
   "outputs": [
    {
     "name": "stderr",
     "output_type": "stream",
     "text": [
      "/var/folders/mm/b26l1fbn3lgg74ssxs6chhsh0000gn/T/ipykernel_4341/1705735859.py:1: FutureWarning: A value is trying to be set on a copy of a DataFrame or Series through chained assignment using an inplace method.\n",
      "The behavior will change in pandas 3.0. This inplace method will never work because the intermediate object on which we are setting values always behaves as a copy.\n",
      "\n",
      "For example, when doing 'df[col].method(value, inplace=True)', try using 'df.method({col: value}, inplace=True)' or df[col] = df[col].method(value) instead, to perform the operation inplace on the original object.\n",
      "\n",
      "\n",
      "  main_data[\"keywords\"].fillna('{\"keywords\":[]}', inplace=True)\n",
      "/var/folders/mm/b26l1fbn3lgg74ssxs6chhsh0000gn/T/ipykernel_4341/1705735859.py:1: SettingWithCopyWarning: \n",
      "A value is trying to be set on a copy of a slice from a DataFrame\n",
      "\n",
      "See the caveats in the documentation: https://pandas.pydata.org/pandas-docs/stable/user_guide/indexing.html#returning-a-view-versus-a-copy\n",
      "  main_data[\"keywords\"].fillna('{\"keywords\":[]}', inplace=True)\n"
     ]
    }
   ],
   "source": [
    "main_data[\"keywords\"].fillna('{\"keywords\":[]}', inplace=True)"
   ]
  },
  {
   "cell_type": "code",
   "execution_count": 97,
   "metadata": {},
   "outputs": [
    {
     "name": "stderr",
     "output_type": "stream",
     "text": [
      "/var/folders/mm/b26l1fbn3lgg74ssxs6chhsh0000gn/T/ipykernel_4341/3014120063.py:1: FutureWarning: A value is trying to be set on a copy of a DataFrame or Series through chained assignment using an inplace method.\n",
      "The behavior will change in pandas 3.0. This inplace method will never work because the intermediate object on which we are setting values always behaves as a copy.\n",
      "\n",
      "For example, when doing 'df[col].method(value, inplace=True)', try using 'df.method({col: value}, inplace=True)' or df[col] = df[col].method(value) instead, to perform the operation inplace on the original object.\n",
      "\n",
      "\n",
      "  main_data[\"credits\"].fillna('{\"cast\":[], \"crew\":[]}', inplace=True)\n",
      "/var/folders/mm/b26l1fbn3lgg74ssxs6chhsh0000gn/T/ipykernel_4341/3014120063.py:1: SettingWithCopyWarning: \n",
      "A value is trying to be set on a copy of a slice from a DataFrame\n",
      "\n",
      "See the caveats in the documentation: https://pandas.pydata.org/pandas-docs/stable/user_guide/indexing.html#returning-a-view-versus-a-copy\n",
      "  main_data[\"credits\"].fillna('{\"cast\":[], \"crew\":[]}', inplace=True)\n"
     ]
    }
   ],
   "source": [
    "main_data[\"credits\"].fillna('{\"cast\":[], \"crew\":[]}', inplace=True)"
   ]
  },
  {
   "cell_type": "code",
   "execution_count": 98,
   "metadata": {},
   "outputs": [
    {
     "name": "stderr",
     "output_type": "stream",
     "text": [
      "/var/folders/mm/b26l1fbn3lgg74ssxs6chhsh0000gn/T/ipykernel_4341/2150881406.py:1: FutureWarning: A value is trying to be set on a copy of a DataFrame or Series through chained assignment using an inplace method.\n",
      "The behavior will change in pandas 3.0. This inplace method will never work because the intermediate object on which we are setting values always behaves as a copy.\n",
      "\n",
      "For example, when doing 'df[col].method(value, inplace=True)', try using 'df.method({col: value}, inplace=True)' or df[col] = df[col].method(value) instead, to perform the operation inplace on the original object.\n",
      "\n",
      "\n",
      "  main_data[\"genres\"].fillna('[]', inplace=True)\n",
      "/var/folders/mm/b26l1fbn3lgg74ssxs6chhsh0000gn/T/ipykernel_4341/2150881406.py:1: SettingWithCopyWarning: \n",
      "A value is trying to be set on a copy of a slice from a DataFrame\n",
      "\n",
      "See the caveats in the documentation: https://pandas.pydata.org/pandas-docs/stable/user_guide/indexing.html#returning-a-view-versus-a-copy\n",
      "  main_data[\"genres\"].fillna('[]', inplace=True)\n"
     ]
    }
   ],
   "source": [
    "main_data[\"genres\"].fillna('[]', inplace=True)"
   ]
  },
  {
   "cell_type": "code",
   "execution_count": 99,
   "metadata": {},
   "outputs": [
    {
     "name": "stdout",
     "output_type": "stream",
     "text": [
      "keywords\n"
     ]
    },
    {
     "name": "stderr",
     "output_type": "stream",
     "text": [
      "/var/folders/mm/b26l1fbn3lgg74ssxs6chhsh0000gn/T/ipykernel_4341/1002440599.py:4: SettingWithCopyWarning: \n",
      "A value is trying to be set on a copy of a slice from a DataFrame.\n",
      "Try using .loc[row_indexer,col_indexer] = value instead\n",
      "\n",
      "See the caveats in the documentation: https://pandas.pydata.org/pandas-docs/stable/user_guide/indexing.html#returning-a-view-versus-a-copy\n",
      "  main_data[c] = main_data[c].apply(literal_eval)\n"
     ]
    },
    {
     "name": "stdout",
     "output_type": "stream",
     "text": [
      "credits\n",
      "genres\n"
     ]
    }
   ],
   "source": [
    "columns_to_change = [\"keywords\", \"credits\", \"genres\"]\n",
    "for c in columns_to_change:\n",
    "    print(c)\n",
    "    main_data[c] = main_data[c].apply(literal_eval)"
   ]
  },
  {
   "cell_type": "code",
   "execution_count": 100,
   "metadata": {},
   "outputs": [
    {
     "data": {
      "text/html": [
       "<div>\n",
       "<style scoped>\n",
       "    .dataframe tbody tr th:only-of-type {\n",
       "        vertical-align: middle;\n",
       "    }\n",
       "\n",
       "    .dataframe tbody tr th {\n",
       "        vertical-align: top;\n",
       "    }\n",
       "\n",
       "    .dataframe thead th {\n",
       "        text-align: right;\n",
       "    }\n",
       "</style>\n",
       "<table border=\"1\" class=\"dataframe\">\n",
       "  <thead>\n",
       "    <tr style=\"text-align: right;\">\n",
       "      <th></th>\n",
       "      <th>id</th>\n",
       "      <th>title</th>\n",
       "      <th>overview</th>\n",
       "      <th>credits</th>\n",
       "      <th>keywords</th>\n",
       "      <th>genres</th>\n",
       "    </tr>\n",
       "  </thead>\n",
       "  <tbody>\n",
       "    <tr>\n",
       "      <th>0</th>\n",
       "      <td>442113.0</td>\n",
       "      <td>I'm Okay</td>\n",
       "      <td>An anti-romantic comedy where we watch a coupl...</td>\n",
       "      <td>{'cast': [], 'crew': [{'adult': False, 'gender...</td>\n",
       "      <td>{'keywords': []}</td>\n",
       "      <td>[]</td>\n",
       "    </tr>\n",
       "    <tr>\n",
       "      <th>2</th>\n",
       "      <td>442114.0</td>\n",
       "      <td>Smoke</td>\n",
       "      <td>NaN</td>\n",
       "      <td>{'cast': [], 'crew': [{'adult': False, 'gender...</td>\n",
       "      <td>{'keywords': []}</td>\n",
       "      <td>[]</td>\n",
       "    </tr>\n",
       "    <tr>\n",
       "      <th>3</th>\n",
       "      <td>442115.0</td>\n",
       "      <td>What's Happening at Local 70</td>\n",
       "      <td>Striking workers in one Chicago unemployment c...</td>\n",
       "      <td>{'cast': [], 'crew': [{'adult': False, 'gender...</td>\n",
       "      <td>{'keywords': []}</td>\n",
       "      <td>[{'id': 99, 'name': 'Documentary'}]</td>\n",
       "    </tr>\n",
       "    <tr>\n",
       "      <th>4</th>\n",
       "      <td>442116.0</td>\n",
       "      <td>Big Boss</td>\n",
       "      <td>Conflicts between power-hungry triad gangsters...</td>\n",
       "      <td>{'cast': [{'adult': False, 'gender': 2, 'id': ...</td>\n",
       "      <td>{'keywords': []}</td>\n",
       "      <td>[{'id': 28, 'name': 'Action'}]</td>\n",
       "    </tr>\n",
       "    <tr>\n",
       "      <th>5</th>\n",
       "      <td>442117.0</td>\n",
       "      <td>Pulse</td>\n",
       "      <td>A gay disabled teenage boy changes into the bo...</td>\n",
       "      <td>{'cast': [{'adult': False, 'gender': 2, 'id': ...</td>\n",
       "      <td>{'keywords': [{'id': 158718, 'name': 'lgbt'}, ...</td>\n",
       "      <td>[{'id': 18, 'name': 'Drama'}, {'id': 14, 'name...</td>\n",
       "    </tr>\n",
       "  </tbody>\n",
       "</table>\n",
       "</div>"
      ],
      "text/plain": [
       "         id                         title  \\\n",
       "0  442113.0                      I'm Okay   \n",
       "2  442114.0                         Smoke   \n",
       "3  442115.0  What's Happening at Local 70   \n",
       "4  442116.0                      Big Boss   \n",
       "5  442117.0                         Pulse   \n",
       "\n",
       "                                            overview  \\\n",
       "0  An anti-romantic comedy where we watch a coupl...   \n",
       "2                                                NaN   \n",
       "3  Striking workers in one Chicago unemployment c...   \n",
       "4  Conflicts between power-hungry triad gangsters...   \n",
       "5  A gay disabled teenage boy changes into the bo...   \n",
       "\n",
       "                                             credits  \\\n",
       "0  {'cast': [], 'crew': [{'adult': False, 'gender...   \n",
       "2  {'cast': [], 'crew': [{'adult': False, 'gender...   \n",
       "3  {'cast': [], 'crew': [{'adult': False, 'gender...   \n",
       "4  {'cast': [{'adult': False, 'gender': 2, 'id': ...   \n",
       "5  {'cast': [{'adult': False, 'gender': 2, 'id': ...   \n",
       "\n",
       "                                            keywords  \\\n",
       "0                                   {'keywords': []}   \n",
       "2                                   {'keywords': []}   \n",
       "3                                   {'keywords': []}   \n",
       "4                                   {'keywords': []}   \n",
       "5  {'keywords': [{'id': 158718, 'name': 'lgbt'}, ...   \n",
       "\n",
       "                                              genres  \n",
       "0                                                 []  \n",
       "2                                                 []  \n",
       "3                [{'id': 99, 'name': 'Documentary'}]  \n",
       "4                     [{'id': 28, 'name': 'Action'}]  \n",
       "5  [{'id': 18, 'name': 'Drama'}, {'id': 14, 'name...  "
      ]
     },
     "execution_count": 100,
     "metadata": {},
     "output_type": "execute_result"
    }
   ],
   "source": [
    "main_data.head()"
   ]
  },
  {
   "cell_type": "code",
   "execution_count": 71,
   "metadata": {},
   "outputs": [],
   "source": [
    "def extract_keywords(k):\n",
    "    \n",
    "    if \"keywords\" not in k or len(k[\"keywords\"]) == 0:\n",
    "        return None\n",
    "\n",
    "    return [x[\"name\"] for x in k[\"keywords\"]]"
   ]
  },
  {
   "cell_type": "code",
   "execution_count": 72,
   "metadata": {},
   "outputs": [],
   "source": [
    "def extract_genres(g):\n",
    "    if not g:\n",
    "        return None\n",
    "    return [x[\"name\"] for x in g] "
   ]
  },
  {
   "cell_type": "code",
   "execution_count": 45,
   "metadata": {},
   "outputs": [],
   "source": [
    "def extract_directors(c):\n",
    "    if \"Director\" not in c:\n",
    "        return None\n",
    "    directors = sorted([(x[\"popularity\"], x[\"name\"]) for x in c[\"crew\"] if x[\"job\"] == \"Director\"], reverse=True)\n",
    "    return [d[1] for d in directors] if directors else None\n",
    "    "
   ]
  },
  {
   "cell_type": "code",
   "execution_count": 75,
   "metadata": {},
   "outputs": [],
   "source": [
    "def extract_cast(c):\n",
    "    if \"cast\" not in c:\n",
    "        return None\n",
    "    cast= sorted([(x[\"popularity\"], x[\"name\"]) for x in c[\"cast\"] if \"name\" in x], reverse=True)\n",
    "    return [ca[1] for ca in cast] if cast else None"
   ]
  },
  {
   "cell_type": "code",
   "execution_count": 101,
   "metadata": {},
   "outputs": [
    {
     "name": "stderr",
     "output_type": "stream",
     "text": [
      "/var/folders/mm/b26l1fbn3lgg74ssxs6chhsh0000gn/T/ipykernel_4341/2806732813.py:1: SettingWithCopyWarning: \n",
      "A value is trying to be set on a copy of a slice from a DataFrame.\n",
      "Try using .loc[row_indexer,col_indexer] = value instead\n",
      "\n",
      "See the caveats in the documentation: https://pandas.pydata.org/pandas-docs/stable/user_guide/indexing.html#returning-a-view-versus-a-copy\n",
      "  main_data[\"keywords\"] = main_data[\"keywords\"].apply(extract_keywords)\n"
     ]
    }
   ],
   "source": [
    "main_data[\"keywords\"] = main_data[\"keywords\"].apply(extract_keywords)"
   ]
  },
  {
   "cell_type": "code",
   "execution_count": 104,
   "metadata": {},
   "outputs": [
    {
     "name": "stderr",
     "output_type": "stream",
     "text": [
      "/var/folders/mm/b26l1fbn3lgg74ssxs6chhsh0000gn/T/ipykernel_4341/2585626887.py:1: SettingWithCopyWarning: \n",
      "A value is trying to be set on a copy of a slice from a DataFrame.\n",
      "Try using .loc[row_indexer,col_indexer] = value instead\n",
      "\n",
      "See the caveats in the documentation: https://pandas.pydata.org/pandas-docs/stable/user_guide/indexing.html#returning-a-view-versus-a-copy\n",
      "  main_data[\"cast\"] = main_data[\"credits\"].apply(extract_cast)\n"
     ]
    }
   ],
   "source": [
    "main_data[\"cast\"] = main_data[\"credits\"].apply(extract_cast)"
   ]
  },
  {
   "cell_type": "code",
   "execution_count": 105,
   "metadata": {},
   "outputs": [
    {
     "name": "stderr",
     "output_type": "stream",
     "text": [
      "/var/folders/mm/b26l1fbn3lgg74ssxs6chhsh0000gn/T/ipykernel_4341/807639442.py:1: SettingWithCopyWarning: \n",
      "A value is trying to be set on a copy of a slice from a DataFrame.\n",
      "Try using .loc[row_indexer,col_indexer] = value instead\n",
      "\n",
      "See the caveats in the documentation: https://pandas.pydata.org/pandas-docs/stable/user_guide/indexing.html#returning-a-view-versus-a-copy\n",
      "  main_data[\"director\"] = main_data[\"credits\"].apply(extract_directors)\n"
     ]
    }
   ],
   "source": [
    "main_data[\"director\"] = main_data[\"credits\"].apply(extract_directors)"
   ]
  },
  {
   "cell_type": "code",
   "execution_count": 106,
   "metadata": {},
   "outputs": [
    {
     "name": "stderr",
     "output_type": "stream",
     "text": [
      "/var/folders/mm/b26l1fbn3lgg74ssxs6chhsh0000gn/T/ipykernel_4341/749113983.py:1: SettingWithCopyWarning: \n",
      "A value is trying to be set on a copy of a slice from a DataFrame.\n",
      "Try using .loc[row_indexer,col_indexer] = value instead\n",
      "\n",
      "See the caveats in the documentation: https://pandas.pydata.org/pandas-docs/stable/user_guide/indexing.html#returning-a-view-versus-a-copy\n",
      "  main_data[\"genres\"] = main_data[\"genres\"].apply(extract_genres)\n"
     ]
    }
   ],
   "source": [
    "main_data[\"genres\"] = main_data[\"genres\"].apply(extract_genres)"
   ]
  },
  {
   "cell_type": "code",
   "execution_count": null,
   "metadata": {},
   "outputs": [],
   "source": []
  },
  {
   "cell_type": "code",
   "execution_count": 108,
   "metadata": {},
   "outputs": [],
   "source": [
    "main_data = main_data.drop(\"credits\", axis=1)"
   ]
  },
  {
   "cell_type": "code",
   "execution_count": 111,
   "metadata": {},
   "outputs": [
    {
     "data": {
      "text/html": [
       "<div>\n",
       "<style scoped>\n",
       "    .dataframe tbody tr th:only-of-type {\n",
       "        vertical-align: middle;\n",
       "    }\n",
       "\n",
       "    .dataframe tbody tr th {\n",
       "        vertical-align: top;\n",
       "    }\n",
       "\n",
       "    .dataframe thead th {\n",
       "        text-align: right;\n",
       "    }\n",
       "</style>\n",
       "<table border=\"1\" class=\"dataframe\">\n",
       "  <thead>\n",
       "    <tr style=\"text-align: right;\">\n",
       "      <th></th>\n",
       "      <th>id</th>\n",
       "      <th>title</th>\n",
       "      <th>overview</th>\n",
       "      <th>keywords</th>\n",
       "      <th>genres</th>\n",
       "      <th>cast</th>\n",
       "      <th>director</th>\n",
       "    </tr>\n",
       "  </thead>\n",
       "  <tbody>\n",
       "    <tr>\n",
       "      <th>0</th>\n",
       "      <td>442113.0</td>\n",
       "      <td>I'm Okay</td>\n",
       "      <td>An anti-romantic comedy where we watch a coupl...</td>\n",
       "      <td>None</td>\n",
       "      <td>None</td>\n",
       "      <td>None</td>\n",
       "      <td>None</td>\n",
       "    </tr>\n",
       "    <tr>\n",
       "      <th>2</th>\n",
       "      <td>442114.0</td>\n",
       "      <td>Smoke</td>\n",
       "      <td>NaN</td>\n",
       "      <td>None</td>\n",
       "      <td>None</td>\n",
       "      <td>None</td>\n",
       "      <td>None</td>\n",
       "    </tr>\n",
       "    <tr>\n",
       "      <th>3</th>\n",
       "      <td>442115.0</td>\n",
       "      <td>What's Happening at Local 70</td>\n",
       "      <td>Striking workers in one Chicago unemployment c...</td>\n",
       "      <td>None</td>\n",
       "      <td>[Documentary]</td>\n",
       "      <td>None</td>\n",
       "      <td>None</td>\n",
       "    </tr>\n",
       "    <tr>\n",
       "      <th>4</th>\n",
       "      <td>442116.0</td>\n",
       "      <td>Big Boss</td>\n",
       "      <td>Conflicts between power-hungry triad gangsters...</td>\n",
       "      <td>None</td>\n",
       "      <td>[Action]</td>\n",
       "      <td>[Ku Feng, Chan Sing, Danny Lee Sau-Yin, Chen H...</td>\n",
       "      <td>None</td>\n",
       "    </tr>\n",
       "    <tr>\n",
       "      <th>5</th>\n",
       "      <td>442117.0</td>\n",
       "      <td>Pulse</td>\n",
       "      <td>A gay disabled teenage boy changes into the bo...</td>\n",
       "      <td>[lgbt, gay theme]</td>\n",
       "      <td>[Drama, Fantasy, Science Fiction]</td>\n",
       "      <td>[Josephine Langford, Caroline Brazier, Lee Jan...</td>\n",
       "      <td>None</td>\n",
       "    </tr>\n",
       "    <tr>\n",
       "      <th>6</th>\n",
       "      <td>442119.0</td>\n",
       "      <td>Paradise for Two</td>\n",
       "      <td>A chorus girl is mistaken for a millionaire's ...</td>\n",
       "      <td>None</td>\n",
       "      <td>[Comedy]</td>\n",
       "      <td>[Roland Culver, Finlay Currie, Martita Hunt, G...</td>\n",
       "      <td>None</td>\n",
       "    </tr>\n",
       "    <tr>\n",
       "      <th>7</th>\n",
       "      <td>442121.0</td>\n",
       "      <td>Sowbhagyam</td>\n",
       "      <td>Sowbhagyam is a 1993 Indian Malayalam film, di...</td>\n",
       "      <td>None</td>\n",
       "      <td>None</td>\n",
       "      <td>[Jagathy Sreekumar, Jagadish, Rajan P Dev, Kut...</td>\n",
       "      <td>None</td>\n",
       "    </tr>\n",
       "    <tr>\n",
       "      <th>8</th>\n",
       "      <td>442122.0</td>\n",
       "      <td>Noa Noa</td>\n",
       "      <td>The Survivors of the Bounty</td>\n",
       "      <td>[mutiny, beach]</td>\n",
       "      <td>[Drama]</td>\n",
       "      <td>[Ines Pellegrini, Paolo Malco, Isabelle De Val...</td>\n",
       "      <td>None</td>\n",
       "    </tr>\n",
       "    <tr>\n",
       "      <th>9</th>\n",
       "      <td>442123.0</td>\n",
       "      <td>Vai col liscio</td>\n",
       "      <td>Federico Altarini is a Dancer of Southern Ital...</td>\n",
       "      <td>[dancing]</td>\n",
       "      <td>[Comedy]</td>\n",
       "      <td>[Valeria Fabrizi, Janet Ågren, Maurizio Arena,...</td>\n",
       "      <td>None</td>\n",
       "    </tr>\n",
       "    <tr>\n",
       "      <th>10</th>\n",
       "      <td>442124.0</td>\n",
       "      <td>Yana+Yanko</td>\n",
       "      <td>Yana Titova is a very successful businesswoman...</td>\n",
       "      <td>[orphanage, editor-in-chief, fashion magazine,...</td>\n",
       "      <td>[Family, Comedy]</td>\n",
       "      <td>[Tinatin Dalakishvili, Artur Smolyaninov, Maks...</td>\n",
       "      <td>None</td>\n",
       "    </tr>\n",
       "  </tbody>\n",
       "</table>\n",
       "</div>"
      ],
      "text/plain": [
       "          id                         title  \\\n",
       "0   442113.0                      I'm Okay   \n",
       "2   442114.0                         Smoke   \n",
       "3   442115.0  What's Happening at Local 70   \n",
       "4   442116.0                      Big Boss   \n",
       "5   442117.0                         Pulse   \n",
       "6   442119.0              Paradise for Two   \n",
       "7   442121.0                    Sowbhagyam   \n",
       "8   442122.0                       Noa Noa   \n",
       "9   442123.0                Vai col liscio   \n",
       "10  442124.0                    Yana+Yanko   \n",
       "\n",
       "                                             overview  \\\n",
       "0   An anti-romantic comedy where we watch a coupl...   \n",
       "2                                                 NaN   \n",
       "3   Striking workers in one Chicago unemployment c...   \n",
       "4   Conflicts between power-hungry triad gangsters...   \n",
       "5   A gay disabled teenage boy changes into the bo...   \n",
       "6   A chorus girl is mistaken for a millionaire's ...   \n",
       "7   Sowbhagyam is a 1993 Indian Malayalam film, di...   \n",
       "8                         The Survivors of the Bounty   \n",
       "9   Federico Altarini is a Dancer of Southern Ital...   \n",
       "10  Yana Titova is a very successful businesswoman...   \n",
       "\n",
       "                                             keywords  \\\n",
       "0                                                None   \n",
       "2                                                None   \n",
       "3                                                None   \n",
       "4                                                None   \n",
       "5                                   [lgbt, gay theme]   \n",
       "6                                                None   \n",
       "7                                                None   \n",
       "8                                     [mutiny, beach]   \n",
       "9                                           [dancing]   \n",
       "10  [orphanage, editor-in-chief, fashion magazine,...   \n",
       "\n",
       "                               genres  \\\n",
       "0                                None   \n",
       "2                                None   \n",
       "3                       [Documentary]   \n",
       "4                            [Action]   \n",
       "5   [Drama, Fantasy, Science Fiction]   \n",
       "6                            [Comedy]   \n",
       "7                                None   \n",
       "8                             [Drama]   \n",
       "9                            [Comedy]   \n",
       "10                   [Family, Comedy]   \n",
       "\n",
       "                                                 cast director  \n",
       "0                                                None     None  \n",
       "2                                                None     None  \n",
       "3                                                None     None  \n",
       "4   [Ku Feng, Chan Sing, Danny Lee Sau-Yin, Chen H...     None  \n",
       "5   [Josephine Langford, Caroline Brazier, Lee Jan...     None  \n",
       "6   [Roland Culver, Finlay Currie, Martita Hunt, G...     None  \n",
       "7   [Jagathy Sreekumar, Jagadish, Rajan P Dev, Kut...     None  \n",
       "8   [Ines Pellegrini, Paolo Malco, Isabelle De Val...     None  \n",
       "9   [Valeria Fabrizi, Janet Ågren, Maurizio Arena,...     None  \n",
       "10  [Tinatin Dalakishvili, Artur Smolyaninov, Maks...     None  "
      ]
     },
     "execution_count": 111,
     "metadata": {},
     "output_type": "execute_result"
    }
   ],
   "source": [
    "main_data.head(10)"
   ]
  },
  {
   "cell_type": "code",
   "execution_count": 112,
   "metadata": {},
   "outputs": [],
   "source": [
    "final_df = pd.concat([main_data, clean_data[\"popularity\"]], axis=1)"
   ]
  },
  {
   "cell_type": "code",
   "execution_count": 113,
   "metadata": {},
   "outputs": [
    {
     "data": {
      "text/plain": [
       "(329708, 8)"
      ]
     },
     "execution_count": 113,
     "metadata": {},
     "output_type": "execute_result"
    }
   ],
   "source": [
    "final_df.shape"
   ]
  },
  {
   "cell_type": "code",
   "execution_count": 114,
   "metadata": {},
   "outputs": [
    {
     "name": "stdout",
     "output_type": "stream",
     "text": [
      "<class 'pandas.core.frame.DataFrame'>\n",
      "Index: 329708 entries, 0 to 401601\n",
      "Data columns (total 8 columns):\n",
      " #   Column      Non-Null Count   Dtype  \n",
      "---  ------      --------------   -----  \n",
      " 0   id          329708 non-null  float64\n",
      " 1   title       329708 non-null  object \n",
      " 2   overview    264435 non-null  object \n",
      " 3   keywords    67679 non-null   object \n",
      " 4   genres      222029 non-null  object \n",
      " 5   cast        205257 non-null  object \n",
      " 6   director    0 non-null       object \n",
      " 7   popularity  329708 non-null  object \n",
      "dtypes: float64(1), object(7)\n",
      "memory usage: 22.6+ MB\n"
     ]
    }
   ],
   "source": [
    "final_df.info()"
   ]
  },
  {
   "cell_type": "code",
   "execution_count": 115,
   "metadata": {},
   "outputs": [],
   "source": [
    "final_df.to_csv(\"../data/clean_movies_300_700K.csv\")"
   ]
  },
  {
   "cell_type": "code",
   "execution_count": null,
   "metadata": {},
   "outputs": [],
   "source": []
  }
 ],
 "metadata": {
  "kernelspec": {
   "display_name": "recenv",
   "language": "python",
   "name": "python3"
  },
  "language_info": {
   "codemirror_mode": {
    "name": "ipython",
    "version": 3
   },
   "file_extension": ".py",
   "mimetype": "text/x-python",
   "name": "python",
   "nbconvert_exporter": "python",
   "pygments_lexer": "ipython3",
   "version": "3.11.4"
  }
 },
 "nbformat": 4,
 "nbformat_minor": 2
}
