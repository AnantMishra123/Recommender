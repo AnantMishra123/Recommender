{
 "cells": [
  {
   "cell_type": "code",
   "execution_count": 1,
   "metadata": {},
   "outputs": [],
   "source": [
    "import pandas as pd\n",
    "from ast import literal_eval"
   ]
  },
  {
   "cell_type": "code",
   "execution_count": 3,
   "metadata": {},
   "outputs": [],
   "source": [
    "df = pd.read_csv(\"../../data/clean/final_movies.csv\", nrows=10000)"
   ]
  },
  {
   "cell_type": "code",
   "execution_count": 4,
   "metadata": {},
   "outputs": [
    {
     "data": {
      "text/plain": [
       "Index(['Unnamed: 0', 'id', 'title', 'overview', 'keywords', 'genres', 'cast',\n",
       "       'director', 'popularity'],\n",
       "      dtype='object')"
      ]
     },
     "execution_count": 4,
     "metadata": {},
     "output_type": "execute_result"
    }
   ],
   "source": [
    "df.columns"
   ]
  },
  {
   "cell_type": "code",
   "execution_count": 6,
   "metadata": {},
   "outputs": [],
   "source": [
    "new_df = df[[\"id\", \"title\", \"keywords\", \"credits\", \"genres\", \"overview\"]]"
   ]
  },
  {
   "cell_type": "code",
   "execution_count": 10,
   "metadata": {},
   "outputs": [
    {
     "name": "stderr",
     "output_type": "stream",
     "text": [
      "/var/folders/mm/b26l1fbn3lgg74ssxs6chhsh0000gn/T/ipykernel_1185/2745555823.py:3: SettingWithCopyWarning: \n",
      "A value is trying to be set on a copy of a slice from a DataFrame.\n",
      "Try using .loc[row_indexer,col_indexer] = value instead\n",
      "\n",
      "See the caveats in the documentation: https://pandas.pydata.org/pandas-docs/stable/user_guide/indexing.html#returning-a-view-versus-a-copy\n",
      "  new_df[c] = new_df[c].apply(literal_eval)\n"
     ]
    }
   ],
   "source": [
    "columns_to_change = [\"keywords\", \"credits\", \"genres\"]\n",
    "for c in columns_to_change:\n",
    "    new_df[c] = new_df[c].apply(literal_eval)"
   ]
  },
  {
   "cell_type": "code",
   "execution_count": 70,
   "metadata": {},
   "outputs": [],
   "source": [
    "def extract_keywords(k):\n",
    "    if len(k[\"keywords\"]) == 0:\n",
    "        return None\n",
    "    return [x[\"name\"] for x in k[\"keywords\"]]"
   ]
  },
  {
   "cell_type": "code",
   "execution_count": 71,
   "metadata": {},
   "outputs": [],
   "source": [
    "def extract_genres(g):\n",
    "    if not g:\n",
    "        return None\n",
    "    return [x[\"name\"] for x in g] "
   ]
  },
  {
   "cell_type": "code",
   "execution_count": 84,
   "metadata": {},
   "outputs": [],
   "source": [
    "def extract_directors(c):\n",
    "    directors = sorted([(x[\"popularity\"], x[\"name\"]) for x in c[\"crew\"] if x[\"job\"] == \"Director\"], reverse=True)\n",
    "    return [d[1] for d in directors] if directors else None\n",
    "    "
   ]
  },
  {
   "cell_type": "code",
   "execution_count": 85,
   "metadata": {},
   "outputs": [],
   "source": [
    "def extract_cast(c):\n",
    "    cast= sorted([(x[\"popularity\"], x[\"name\"]) for x in c[\"cast\"]], reverse=True)\n",
    "    return [ca[1] for ca in cast] if cast else None"
   ]
  },
  {
   "cell_type": "code",
   "execution_count": 74,
   "metadata": {},
   "outputs": [
    {
     "name": "stderr",
     "output_type": "stream",
     "text": [
      "/var/folders/mm/b26l1fbn3lgg74ssxs6chhsh0000gn/T/ipykernel_1185/3433518173.py:1: SettingWithCopyWarning: \n",
      "A value is trying to be set on a copy of a slice from a DataFrame.\n",
      "Try using .loc[row_indexer,col_indexer] = value instead\n",
      "\n",
      "See the caveats in the documentation: https://pandas.pydata.org/pandas-docs/stable/user_guide/indexing.html#returning-a-view-versus-a-copy\n",
      "  new_df[\"keywords\"] = new_df[\"keywords\"].apply(extract_keywords)\n"
     ]
    }
   ],
   "source": [
    "new_df[\"keywords\"] = new_df[\"keywords\"].apply(extract_keywords)"
   ]
  },
  {
   "cell_type": "code",
   "execution_count": 86,
   "metadata": {},
   "outputs": [
    {
     "name": "stderr",
     "output_type": "stream",
     "text": [
      "/var/folders/mm/b26l1fbn3lgg74ssxs6chhsh0000gn/T/ipykernel_1185/613394245.py:1: SettingWithCopyWarning: \n",
      "A value is trying to be set on a copy of a slice from a DataFrame.\n",
      "Try using .loc[row_indexer,col_indexer] = value instead\n",
      "\n",
      "See the caveats in the documentation: https://pandas.pydata.org/pandas-docs/stable/user_guide/indexing.html#returning-a-view-versus-a-copy\n",
      "  new_df[\"cast\"] = new_df[\"credits\"].apply(extract_cast)\n"
     ]
    }
   ],
   "source": [
    "new_df[\"cast\"] = new_df[\"credits\"].apply(extract_cast)"
   ]
  },
  {
   "cell_type": "code",
   "execution_count": 87,
   "metadata": {},
   "outputs": [
    {
     "name": "stderr",
     "output_type": "stream",
     "text": [
      "/var/folders/mm/b26l1fbn3lgg74ssxs6chhsh0000gn/T/ipykernel_1185/4291705275.py:1: SettingWithCopyWarning: \n",
      "A value is trying to be set on a copy of a slice from a DataFrame.\n",
      "Try using .loc[row_indexer,col_indexer] = value instead\n",
      "\n",
      "See the caveats in the documentation: https://pandas.pydata.org/pandas-docs/stable/user_guide/indexing.html#returning-a-view-versus-a-copy\n",
      "  new_df[\"director\"] = new_df[\"credits\"].apply(extract_directors)\n"
     ]
    }
   ],
   "source": [
    "new_df[\"director\"] = new_df[\"credits\"].apply(extract_directors)"
   ]
  },
  {
   "cell_type": "code",
   "execution_count": 81,
   "metadata": {},
   "outputs": [
    {
     "name": "stderr",
     "output_type": "stream",
     "text": [
      "/var/folders/mm/b26l1fbn3lgg74ssxs6chhsh0000gn/T/ipykernel_1185/179758818.py:1: SettingWithCopyWarning: \n",
      "A value is trying to be set on a copy of a slice from a DataFrame.\n",
      "Try using .loc[row_indexer,col_indexer] = value instead\n",
      "\n",
      "See the caveats in the documentation: https://pandas.pydata.org/pandas-docs/stable/user_guide/indexing.html#returning-a-view-versus-a-copy\n",
      "  new_df[\"genres\"] = new_df[\"genres\"].apply(extract_genres)\n"
     ]
    }
   ],
   "source": [
    "new_df[\"genres\"] = new_df[\"genres\"].apply(extract_genres)"
   ]
  },
  {
   "cell_type": "code",
   "execution_count": 92,
   "metadata": {},
   "outputs": [],
   "source": [
    "new_df = new_df.drop(\"credits\", axis=1)"
   ]
  },
  {
   "cell_type": "code",
   "execution_count": 94,
   "metadata": {},
   "outputs": [
    {
     "data": {
      "text/html": [
       "<div>\n",
       "<style scoped>\n",
       "    .dataframe tbody tr th:only-of-type {\n",
       "        vertical-align: middle;\n",
       "    }\n",
       "\n",
       "    .dataframe tbody tr th {\n",
       "        vertical-align: top;\n",
       "    }\n",
       "\n",
       "    .dataframe thead th {\n",
       "        text-align: right;\n",
       "    }\n",
       "</style>\n",
       "<table border=\"1\" class=\"dataframe\">\n",
       "  <thead>\n",
       "    <tr style=\"text-align: right;\">\n",
       "      <th></th>\n",
       "      <th>id</th>\n",
       "      <th>title</th>\n",
       "      <th>keywords</th>\n",
       "      <th>genres</th>\n",
       "      <th>overview</th>\n",
       "      <th>cast</th>\n",
       "      <th>director</th>\n",
       "    </tr>\n",
       "  </thead>\n",
       "  <tbody>\n",
       "    <tr>\n",
       "      <th>0</th>\n",
       "      <td>3924.0</td>\n",
       "      <td>Blondie</td>\n",
       "      <td>[blondie]</td>\n",
       "      <td>[Comedy, Family]</td>\n",
       "      <td>Blondie and Dagwood are about to celebrate the...</td>\n",
       "      <td>[James Flavin, Gene Lockhart, Ann Doran, Jonat...</td>\n",
       "      <td>[Frank R. Strayer]</td>\n",
       "    </tr>\n",
       "    <tr>\n",
       "      <th>1</th>\n",
       "      <td>6124.0</td>\n",
       "      <td>Peter Voss, Thief of Millions</td>\n",
       "      <td>None</td>\n",
       "      <td>[Adventure]</td>\n",
       "      <td>NaN</td>\n",
       "      <td>[Mady Christians, Harry Liedtke, Georg Alexand...</td>\n",
       "      <td>[Georg Jacoby]</td>\n",
       "    </tr>\n",
       "    <tr>\n",
       "      <th>2</th>\n",
       "      <td>8773.0</td>\n",
       "      <td>Love at Twenty</td>\n",
       "      <td>None</td>\n",
       "      <td>[Drama, Romance]</td>\n",
       "      <td>Love at Twenty unites five directors from five...</td>\n",
       "      <td>[Marie-France Pisier, Jean-Pierre Léaud, Włady...</td>\n",
       "      <td>[François Truffaut, Andrzej Wajda, Marcel Ophü...</td>\n",
       "    </tr>\n",
       "    <tr>\n",
       "      <th>3</th>\n",
       "      <td>25449.0</td>\n",
       "      <td>New World Disorder 9: Never Enough</td>\n",
       "      <td>[sports, mountain biking]</td>\n",
       "      <td>None</td>\n",
       "      <td>Gee Atherton ripping the Worlds course the day...</td>\n",
       "      <td>[Andreu Lacondeguy, Brandon Semenuk, Darren Be...</td>\n",
       "      <td>[Derek Westerlund]</td>\n",
       "    </tr>\n",
       "    <tr>\n",
       "      <th>4</th>\n",
       "      <td>31975.0</td>\n",
       "      <td>Sesame Street: Elmo Loves You!</td>\n",
       "      <td>None</td>\n",
       "      <td>[Family]</td>\n",
       "      <td>Elmo is making a very, very super special surp...</td>\n",
       "      <td>None</td>\n",
       "      <td>None</td>\n",
       "    </tr>\n",
       "  </tbody>\n",
       "</table>\n",
       "</div>"
      ],
      "text/plain": [
       "        id                               title                   keywords  \\\n",
       "0   3924.0                             Blondie                  [blondie]   \n",
       "1   6124.0       Peter Voss, Thief of Millions                       None   \n",
       "2   8773.0                      Love at Twenty                       None   \n",
       "3  25449.0  New World Disorder 9: Never Enough  [sports, mountain biking]   \n",
       "4  31975.0      Sesame Street: Elmo Loves You!                       None   \n",
       "\n",
       "             genres                                           overview  \\\n",
       "0  [Comedy, Family]  Blondie and Dagwood are about to celebrate the...   \n",
       "1       [Adventure]                                                NaN   \n",
       "2  [Drama, Romance]  Love at Twenty unites five directors from five...   \n",
       "3              None  Gee Atherton ripping the Worlds course the day...   \n",
       "4          [Family]  Elmo is making a very, very super special surp...   \n",
       "\n",
       "                                                cast  \\\n",
       "0  [James Flavin, Gene Lockhart, Ann Doran, Jonat...   \n",
       "1  [Mady Christians, Harry Liedtke, Georg Alexand...   \n",
       "2  [Marie-France Pisier, Jean-Pierre Léaud, Włady...   \n",
       "3  [Andreu Lacondeguy, Brandon Semenuk, Darren Be...   \n",
       "4                                               None   \n",
       "\n",
       "                                            director  \n",
       "0                                 [Frank R. Strayer]  \n",
       "1                                     [Georg Jacoby]  \n",
       "2  [François Truffaut, Andrzej Wajda, Marcel Ophü...  \n",
       "3                                 [Derek Westerlund]  \n",
       "4                                               None  "
      ]
     },
     "execution_count": 94,
     "metadata": {},
     "output_type": "execute_result"
    }
   ],
   "source": [
    "new_df.head()"
   ]
  },
  {
   "cell_type": "code",
   "execution_count": null,
   "metadata": {},
   "outputs": [],
   "source": []
  }
 ],
 "metadata": {
  "kernelspec": {
   "display_name": "recenv",
   "language": "python",
   "name": "python3"
  },
  "language_info": {
   "codemirror_mode": {
    "name": "ipython",
    "version": 3
   },
   "file_extension": ".py",
   "mimetype": "text/x-python",
   "name": "python",
   "nbconvert_exporter": "python",
   "pygments_lexer": "ipython3",
   "version": "3.11.4"
  }
 },
 "nbformat": 4,
 "nbformat_minor": 2
}
