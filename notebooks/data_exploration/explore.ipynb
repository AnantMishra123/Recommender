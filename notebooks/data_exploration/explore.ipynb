{
 "cells": [
  {
   "cell_type": "code",
   "execution_count": 1,
   "metadata": {},
   "outputs": [],
   "source": [
    "import pandas as pd\n",
    "import collections\n",
    "import csv\n",
    "from ast import literal_eval"
   ]
  },
  {
   "cell_type": "code",
   "execution_count": 2,
   "metadata": {},
   "outputs": [],
   "source": [
    "df_1 = pd.read_csv(\"../../data/async_movie_db_000k_500k.csv\")"
   ]
  },
  {
   "cell_type": "code",
   "execution_count": 3,
   "metadata": {},
   "outputs": [],
   "source": [
    "df_2 = pd.read_csv(\"../../data/async_movie_db_500k_1000k.csv\")"
   ]
  },
  {
   "cell_type": "code",
   "execution_count": 6,
   "metadata": {},
   "outputs": [],
   "source": [
    "movie_id = pd.read_csv(\"../../data/movie_ids.csv\")"
   ]
  },
  {
   "cell_type": "code",
   "execution_count": 4,
   "metadata": {},
   "outputs": [],
   "source": [
    "df_1_clean = df_1[df_1[\"id\"].isna() == False]"
   ]
  },
  {
   "cell_type": "code",
   "execution_count": 5,
   "metadata": {},
   "outputs": [],
   "source": [
    "df_2_clean = df_2[df_2[\"id\"].isna() == False]"
   ]
  },
  {
   "cell_type": "code",
   "execution_count": 23,
   "metadata": {},
   "outputs": [],
   "source": [
    "combined_df = pd.concat([df_1_clean, df_2_clean], ignore_index=True)"
   ]
  },
  {
   "cell_type": "code",
   "execution_count": 24,
   "metadata": {},
   "outputs": [],
   "source": [
    "combined_df = combined_df.reindex().drop(columns=[\"Unnamed: 0\"])"
   ]
  },
  {
   "cell_type": "code",
   "execution_count": 25,
   "metadata": {},
   "outputs": [],
   "source": [
    "english_df = combined_df[combined_df[\"original_language\"] == \"en\"]"
   ]
  },
  {
   "cell_type": "code",
   "execution_count": 31,
   "metadata": {},
   "outputs": [
    {
     "data": {
      "text/html": [
       "<div>\n",
       "<style scoped>\n",
       "    .dataframe tbody tr th:only-of-type {\n",
       "        vertical-align: middle;\n",
       "    }\n",
       "\n",
       "    .dataframe tbody tr th {\n",
       "        vertical-align: top;\n",
       "    }\n",
       "\n",
       "    .dataframe thead th {\n",
       "        text-align: right;\n",
       "    }\n",
       "</style>\n",
       "<table border=\"1\" class=\"dataframe\">\n",
       "  <thead>\n",
       "    <tr style=\"text-align: right;\">\n",
       "      <th></th>\n",
       "      <th>adult</th>\n",
       "      <th>backdrop_path</th>\n",
       "      <th>belongs_to_collection</th>\n",
       "      <th>budget</th>\n",
       "      <th>genres</th>\n",
       "      <th>homepage</th>\n",
       "      <th>id</th>\n",
       "      <th>imdb_id</th>\n",
       "      <th>original_language</th>\n",
       "      <th>original_title</th>\n",
       "      <th>...</th>\n",
       "      <th>runtime</th>\n",
       "      <th>spoken_languages</th>\n",
       "      <th>status</th>\n",
       "      <th>tagline</th>\n",
       "      <th>title</th>\n",
       "      <th>video</th>\n",
       "      <th>vote_average</th>\n",
       "      <th>vote_count</th>\n",
       "      <th>keywords</th>\n",
       "      <th>credits</th>\n",
       "    </tr>\n",
       "  </thead>\n",
       "  <tbody>\n",
       "    <tr>\n",
       "      <th>3</th>\n",
       "      <td>False</td>\n",
       "      <td>/f2t4JbUvQIjUF5FstG1zZFAp02N.jpg</td>\n",
       "      <td>NaN</td>\n",
       "      <td>4000000.0</td>\n",
       "      <td>[{'id': 35, 'name': 'Comedy'}]</td>\n",
       "      <td>https://www.miramax.com/movie/four-rooms/</td>\n",
       "      <td>5.0</td>\n",
       "      <td>tt0113101</td>\n",
       "      <td>en</td>\n",
       "      <td>Four Rooms</td>\n",
       "      <td>...</td>\n",
       "      <td>98.0</td>\n",
       "      <td>[{'english_name': 'English', 'iso_639_1': 'en'...</td>\n",
       "      <td>Released</td>\n",
       "      <td>Twelve outrageous guests. Four scandalous requ...</td>\n",
       "      <td>Four Rooms</td>\n",
       "      <td>False</td>\n",
       "      <td>5.829</td>\n",
       "      <td>2565.0</td>\n",
       "      <td>{'keywords': [{'id': 612, 'name': 'hotel'}, {'...</td>\n",
       "      <td>{'cast': [{'adult': False, 'gender': 2, 'id': ...</td>\n",
       "    </tr>\n",
       "    <tr>\n",
       "      <th>4</th>\n",
       "      <td>False</td>\n",
       "      <td>/bGMqHn0H2UY6SPZ5Vch4YJM2jDO.jpg</td>\n",
       "      <td>NaN</td>\n",
       "      <td>21000000.0</td>\n",
       "      <td>[{'id': 28, 'name': 'Action'}, {'id': 80, 'nam...</td>\n",
       "      <td>NaN</td>\n",
       "      <td>6.0</td>\n",
       "      <td>tt0107286</td>\n",
       "      <td>en</td>\n",
       "      <td>Judgment Night</td>\n",
       "      <td>...</td>\n",
       "      <td>109.0</td>\n",
       "      <td>[{'english_name': 'English', 'iso_639_1': 'en'...</td>\n",
       "      <td>Released</td>\n",
       "      <td>Don't move. Don't whisper. Don't even breathe.</td>\n",
       "      <td>Judgment Night</td>\n",
       "      <td>False</td>\n",
       "      <td>6.508</td>\n",
       "      <td>321.0</td>\n",
       "      <td>{'keywords': [{'id': 2231, 'name': 'drug deale...</td>\n",
       "      <td>{'cast': [{'adult': False, 'gender': 2, 'id': ...</td>\n",
       "    </tr>\n",
       "    <tr>\n",
       "      <th>5</th>\n",
       "      <td>False</td>\n",
       "      <td>NaN</td>\n",
       "      <td>NaN</td>\n",
       "      <td>42000.0</td>\n",
       "      <td>[{'id': 99, 'name': 'Documentary'}]</td>\n",
       "      <td>http://lifeinloops.com</td>\n",
       "      <td>8.0</td>\n",
       "      <td>tt0825671</td>\n",
       "      <td>en</td>\n",
       "      <td>Life in Loops (A Megacities RMX)</td>\n",
       "      <td>...</td>\n",
       "      <td>80.0</td>\n",
       "      <td>[{'english_name': 'English', 'iso_639_1': 'en'...</td>\n",
       "      <td>Released</td>\n",
       "      <td>A Megacities remix.</td>\n",
       "      <td>Life in Loops (A Megacities RMX)</td>\n",
       "      <td>False</td>\n",
       "      <td>7.300</td>\n",
       "      <td>28.0</td>\n",
       "      <td>{'keywords': [{'id': 215272, 'name': 'megaciti...</td>\n",
       "      <td>{'cast': [], 'crew': [{'adult': False, 'gender...</td>\n",
       "    </tr>\n",
       "    <tr>\n",
       "      <th>7</th>\n",
       "      <td>False</td>\n",
       "      <td>/4qCqAdHcNKeAHcK8tJ8wNJZa9cx.jpg</td>\n",
       "      <td>{'id': 10, 'name': 'Star Wars Collection', 'po...</td>\n",
       "      <td>11000000.0</td>\n",
       "      <td>[{'id': 12, 'name': 'Adventure'}, {'id': 28, '...</td>\n",
       "      <td>http://www.starwars.com/films/star-wars-episod...</td>\n",
       "      <td>11.0</td>\n",
       "      <td>tt0076759</td>\n",
       "      <td>en</td>\n",
       "      <td>Star Wars</td>\n",
       "      <td>...</td>\n",
       "      <td>121.0</td>\n",
       "      <td>[{'english_name': 'English', 'iso_639_1': 'en'...</td>\n",
       "      <td>Released</td>\n",
       "      <td>A long time ago in a galaxy far, far away...</td>\n",
       "      <td>Star Wars</td>\n",
       "      <td>False</td>\n",
       "      <td>8.203</td>\n",
       "      <td>20009.0</td>\n",
       "      <td>{'keywords': [{'id': 11195, 'name': 'empire'},...</td>\n",
       "      <td>{'cast': [{'adult': False, 'gender': 2, 'id': ...</td>\n",
       "    </tr>\n",
       "    <tr>\n",
       "      <th>8</th>\n",
       "      <td>False</td>\n",
       "      <td>/eCynaAOgYYiw5yN5lBwz3IxqvaW.jpg</td>\n",
       "      <td>{'id': 137697, 'name': 'Finding Nemo Collectio...</td>\n",
       "      <td>94000000.0</td>\n",
       "      <td>[{'id': 16, 'name': 'Animation'}, {'id': 10751...</td>\n",
       "      <td>http://movies.disney.com/finding-nemo</td>\n",
       "      <td>12.0</td>\n",
       "      <td>tt0266543</td>\n",
       "      <td>en</td>\n",
       "      <td>Finding Nemo</td>\n",
       "      <td>...</td>\n",
       "      <td>100.0</td>\n",
       "      <td>[{'english_name': 'English', 'iso_639_1': 'en'...</td>\n",
       "      <td>Released</td>\n",
       "      <td>There are 3.7 trillion fish in the ocean. They...</td>\n",
       "      <td>Finding Nemo</td>\n",
       "      <td>False</td>\n",
       "      <td>7.823</td>\n",
       "      <td>18726.0</td>\n",
       "      <td>{'keywords': [{'id': 5656, 'name': 'sydney, au...</td>\n",
       "      <td>{'cast': [{'adult': False, 'gender': 2, 'id': ...</td>\n",
       "    </tr>\n",
       "  </tbody>\n",
       "</table>\n",
       "<p>5 rows × 27 columns</p>\n",
       "</div>"
      ],
      "text/plain": [
       "   adult                     backdrop_path  \\\n",
       "3  False  /f2t4JbUvQIjUF5FstG1zZFAp02N.jpg   \n",
       "4  False  /bGMqHn0H2UY6SPZ5Vch4YJM2jDO.jpg   \n",
       "5  False                               NaN   \n",
       "7  False  /4qCqAdHcNKeAHcK8tJ8wNJZa9cx.jpg   \n",
       "8  False  /eCynaAOgYYiw5yN5lBwz3IxqvaW.jpg   \n",
       "\n",
       "                               belongs_to_collection      budget  \\\n",
       "3                                                NaN   4000000.0   \n",
       "4                                                NaN  21000000.0   \n",
       "5                                                NaN     42000.0   \n",
       "7  {'id': 10, 'name': 'Star Wars Collection', 'po...  11000000.0   \n",
       "8  {'id': 137697, 'name': 'Finding Nemo Collectio...  94000000.0   \n",
       "\n",
       "                                              genres  \\\n",
       "3                     [{'id': 35, 'name': 'Comedy'}]   \n",
       "4  [{'id': 28, 'name': 'Action'}, {'id': 80, 'nam...   \n",
       "5                [{'id': 99, 'name': 'Documentary'}]   \n",
       "7  [{'id': 12, 'name': 'Adventure'}, {'id': 28, '...   \n",
       "8  [{'id': 16, 'name': 'Animation'}, {'id': 10751...   \n",
       "\n",
       "                                            homepage    id    imdb_id  \\\n",
       "3          https://www.miramax.com/movie/four-rooms/   5.0  tt0113101   \n",
       "4                                                NaN   6.0  tt0107286   \n",
       "5                             http://lifeinloops.com   8.0  tt0825671   \n",
       "7  http://www.starwars.com/films/star-wars-episod...  11.0  tt0076759   \n",
       "8              http://movies.disney.com/finding-nemo  12.0  tt0266543   \n",
       "\n",
       "  original_language                    original_title  ... runtime  \\\n",
       "3                en                        Four Rooms  ...    98.0   \n",
       "4                en                    Judgment Night  ...   109.0   \n",
       "5                en  Life in Loops (A Megacities RMX)  ...    80.0   \n",
       "7                en                         Star Wars  ...   121.0   \n",
       "8                en                      Finding Nemo  ...   100.0   \n",
       "\n",
       "                                    spoken_languages    status  \\\n",
       "3  [{'english_name': 'English', 'iso_639_1': 'en'...  Released   \n",
       "4  [{'english_name': 'English', 'iso_639_1': 'en'...  Released   \n",
       "5  [{'english_name': 'English', 'iso_639_1': 'en'...  Released   \n",
       "7  [{'english_name': 'English', 'iso_639_1': 'en'...  Released   \n",
       "8  [{'english_name': 'English', 'iso_639_1': 'en'...  Released   \n",
       "\n",
       "                                             tagline  \\\n",
       "3  Twelve outrageous guests. Four scandalous requ...   \n",
       "4     Don't move. Don't whisper. Don't even breathe.   \n",
       "5                                A Megacities remix.   \n",
       "7       A long time ago in a galaxy far, far away...   \n",
       "8  There are 3.7 trillion fish in the ocean. They...   \n",
       "\n",
       "                              title  video  vote_average  vote_count  \\\n",
       "3                        Four Rooms  False         5.829      2565.0   \n",
       "4                    Judgment Night  False         6.508       321.0   \n",
       "5  Life in Loops (A Megacities RMX)  False         7.300        28.0   \n",
       "7                         Star Wars  False         8.203     20009.0   \n",
       "8                      Finding Nemo  False         7.823     18726.0   \n",
       "\n",
       "                                            keywords  \\\n",
       "3  {'keywords': [{'id': 612, 'name': 'hotel'}, {'...   \n",
       "4  {'keywords': [{'id': 2231, 'name': 'drug deale...   \n",
       "5  {'keywords': [{'id': 215272, 'name': 'megaciti...   \n",
       "7  {'keywords': [{'id': 11195, 'name': 'empire'},...   \n",
       "8  {'keywords': [{'id': 5656, 'name': 'sydney, au...   \n",
       "\n",
       "                                             credits  \n",
       "3  {'cast': [{'adult': False, 'gender': 2, 'id': ...  \n",
       "4  {'cast': [{'adult': False, 'gender': 2, 'id': ...  \n",
       "5  {'cast': [], 'crew': [{'adult': False, 'gender...  \n",
       "7  {'cast': [{'adult': False, 'gender': 2, 'id': ...  \n",
       "8  {'cast': [{'adult': False, 'gender': 2, 'id': ...  \n",
       "\n",
       "[5 rows x 27 columns]"
      ]
     },
     "execution_count": 31,
     "metadata": {},
     "output_type": "execute_result"
    }
   ],
   "source": [
    "english_df.head()"
   ]
  },
  {
   "cell_type": "code",
   "execution_count": 32,
   "metadata": {},
   "outputs": [],
   "source": [
    "columns = [\"spoken_languages\",\"keywords\",\"credits\", \"genres\"]"
   ]
  },
  {
   "cell_type": "code",
   "execution_count": 33,
   "metadata": {},
   "outputs": [
    {
     "name": "stderr",
     "output_type": "stream",
     "text": [
      "/var/folders/mm/b26l1fbn3lgg74ssxs6chhsh0000gn/T/ipykernel_88227/1312885065.py:1: SettingWithCopyWarning: \n",
      "A value is trying to be set on a copy of a slice from a DataFrame.\n",
      "Try using .loc[row_indexer,col_indexer] = value instead\n",
      "\n",
      "See the caveats in the documentation: https://pandas.pydata.org/pandas-docs/stable/user_guide/indexing.html#returning-a-view-versus-a-copy\n",
      "  english_df[\"spoken_languages\"] = english_df[\"spoken_languages\"].fillna(\"[]\")\n"
     ]
    }
   ],
   "source": [
    "english_df[\"spoken_languages\"] = english_df[\"spoken_languages\"].fillna(\"[]\")"
   ]
  },
  {
   "cell_type": "code",
   "execution_count": 34,
   "metadata": {},
   "outputs": [
    {
     "name": "stderr",
     "output_type": "stream",
     "text": [
      "/var/folders/mm/b26l1fbn3lgg74ssxs6chhsh0000gn/T/ipykernel_88227/3727051275.py:1: SettingWithCopyWarning: \n",
      "A value is trying to be set on a copy of a slice from a DataFrame.\n",
      "Try using .loc[row_indexer,col_indexer] = value instead\n",
      "\n",
      "See the caveats in the documentation: https://pandas.pydata.org/pandas-docs/stable/user_guide/indexing.html#returning-a-view-versus-a-copy\n",
      "  english_df[\"keywords\"] = english_df[\"keywords\"].fillna(\"{}\")\n",
      "/var/folders/mm/b26l1fbn3lgg74ssxs6chhsh0000gn/T/ipykernel_88227/3727051275.py:2: SettingWithCopyWarning: \n",
      "A value is trying to be set on a copy of a slice from a DataFrame.\n",
      "Try using .loc[row_indexer,col_indexer] = value instead\n",
      "\n",
      "See the caveats in the documentation: https://pandas.pydata.org/pandas-docs/stable/user_guide/indexing.html#returning-a-view-versus-a-copy\n",
      "  english_df[\"credits\"] = english_df[\"credits\"].fillna(\"{}\")\n"
     ]
    }
   ],
   "source": [
    "english_df[\"keywords\"] = english_df[\"keywords\"].fillna(\"{}\")\n",
    "english_df[\"credits\"] = english_df[\"credits\"].fillna(\"{}\")"
   ]
  },
  {
   "cell_type": "code",
   "execution_count": 35,
   "metadata": {},
   "outputs": [
    {
     "name": "stderr",
     "output_type": "stream",
     "text": [
      "/var/folders/mm/b26l1fbn3lgg74ssxs6chhsh0000gn/T/ipykernel_88227/1022074761.py:1: SettingWithCopyWarning: \n",
      "A value is trying to be set on a copy of a slice from a DataFrame.\n",
      "Try using .loc[row_indexer,col_indexer] = value instead\n",
      "\n",
      "See the caveats in the documentation: https://pandas.pydata.org/pandas-docs/stable/user_guide/indexing.html#returning-a-view-versus-a-copy\n",
      "  english_df[\"genres\"] = english_df[\"genres\"].fillna(\"[]\")\n"
     ]
    }
   ],
   "source": [
    "english_df[\"genres\"] = english_df[\"genres\"].fillna(\"[]\")"
   ]
  },
  {
   "cell_type": "code",
   "execution_count": 175,
   "metadata": {},
   "outputs": [
    {
     "name": "stdout",
     "output_type": "stream",
     "text": [
      "17107 2009-08-20 0\n"
     ]
    }
   ],
   "source": [
    "for i, v in enumerate(english_df[\"genres\"].tolist()):\n",
    "    if str(v).find(\"2009-08-20\") != -1:\n",
    "        print(i, v, str(v).find(\"2009-08-20\"))"
   ]
  },
  {
   "cell_type": "code",
   "execution_count": 188,
   "metadata": {},
   "outputs": [
    {
     "name": "stderr",
     "output_type": "stream",
     "text": [
      "/var/folders/mm/b26l1fbn3lgg74ssxs6chhsh0000gn/T/ipykernel_92439/3710122507.py:1: SettingWithCopyWarning: \n",
      "A value is trying to be set on a copy of a slice from a DataFrame\n",
      "\n",
      "See the caveats in the documentation: https://pandas.pydata.org/pandas-docs/stable/user_guide/indexing.html#returning-a-view-versus-a-copy\n",
      "  english_df[\"genres\"][17107] = \"[]\"\n"
     ]
    }
   ],
   "source": [
    "english_df[\"genres\"][17107] = \"[]\""
   ]
  },
  {
   "cell_type": "code",
   "execution_count": 36,
   "metadata": {},
   "outputs": [
    {
     "name": "stderr",
     "output_type": "stream",
     "text": [
      "/var/folders/mm/b26l1fbn3lgg74ssxs6chhsh0000gn/T/ipykernel_88227/4087767483.py:1: SettingWithCopyWarning: \n",
      "A value is trying to be set on a copy of a slice from a DataFrame.\n",
      "Try using .loc[row_indexer,col_indexer] = value instead\n",
      "\n",
      "See the caveats in the documentation: https://pandas.pydata.org/pandas-docs/stable/user_guide/indexing.html#returning-a-view-versus-a-copy\n",
      "  english_df[\"genres\"] = english_df[\"genres\"].apply(literal_eval)\n"
     ]
    }
   ],
   "source": [
    "english_df[\"genres\"] = english_df[\"genres\"].apply(literal_eval)"
   ]
  },
  {
   "cell_type": "code",
   "execution_count": 37,
   "metadata": {},
   "outputs": [
    {
     "name": "stdout",
     "output_type": "stream",
     "text": [
      "spoken_languages\n"
     ]
    },
    {
     "name": "stderr",
     "output_type": "stream",
     "text": [
      "/var/folders/mm/b26l1fbn3lgg74ssxs6chhsh0000gn/T/ipykernel_88227/2824322375.py:4: SettingWithCopyWarning: \n",
      "A value is trying to be set on a copy of a slice from a DataFrame.\n",
      "Try using .loc[row_indexer,col_indexer] = value instead\n",
      "\n",
      "See the caveats in the documentation: https://pandas.pydata.org/pandas-docs/stable/user_guide/indexing.html#returning-a-view-versus-a-copy\n",
      "  english_df[c] = english_df[c].apply(literal_eval)\n"
     ]
    },
    {
     "name": "stdout",
     "output_type": "stream",
     "text": [
      "keywords\n",
      "credits\n"
     ]
    }
   ],
   "source": [
    "#Cleaning columns\n",
    "for c in columns[:len(columns)-1]:\n",
    "    print(c)\n",
    "    english_df[c] = english_df[c].apply(literal_eval)"
   ]
  },
  {
   "cell_type": "code",
   "execution_count": 38,
   "metadata": {},
   "outputs": [
    {
     "data": {
      "text/html": [
       "<div>\n",
       "<style scoped>\n",
       "    .dataframe tbody tr th:only-of-type {\n",
       "        vertical-align: middle;\n",
       "    }\n",
       "\n",
       "    .dataframe tbody tr th {\n",
       "        vertical-align: top;\n",
       "    }\n",
       "\n",
       "    .dataframe thead th {\n",
       "        text-align: right;\n",
       "    }\n",
       "</style>\n",
       "<table border=\"1\" class=\"dataframe\">\n",
       "  <thead>\n",
       "    <tr style=\"text-align: right;\">\n",
       "      <th></th>\n",
       "      <th>adult</th>\n",
       "      <th>backdrop_path</th>\n",
       "      <th>belongs_to_collection</th>\n",
       "      <th>budget</th>\n",
       "      <th>genres</th>\n",
       "      <th>homepage</th>\n",
       "      <th>id</th>\n",
       "      <th>imdb_id</th>\n",
       "      <th>original_language</th>\n",
       "      <th>original_title</th>\n",
       "      <th>...</th>\n",
       "      <th>runtime</th>\n",
       "      <th>spoken_languages</th>\n",
       "      <th>status</th>\n",
       "      <th>tagline</th>\n",
       "      <th>title</th>\n",
       "      <th>video</th>\n",
       "      <th>vote_average</th>\n",
       "      <th>vote_count</th>\n",
       "      <th>keywords</th>\n",
       "      <th>credits</th>\n",
       "    </tr>\n",
       "  </thead>\n",
       "  <tbody>\n",
       "    <tr>\n",
       "      <th>3</th>\n",
       "      <td>False</td>\n",
       "      <td>/f2t4JbUvQIjUF5FstG1zZFAp02N.jpg</td>\n",
       "      <td>NaN</td>\n",
       "      <td>4000000.0</td>\n",
       "      <td>[{'id': 35, 'name': 'Comedy'}]</td>\n",
       "      <td>https://www.miramax.com/movie/four-rooms/</td>\n",
       "      <td>5.0</td>\n",
       "      <td>tt0113101</td>\n",
       "      <td>en</td>\n",
       "      <td>Four Rooms</td>\n",
       "      <td>...</td>\n",
       "      <td>98.0</td>\n",
       "      <td>[{'english_name': 'English', 'iso_639_1': 'en'...</td>\n",
       "      <td>Released</td>\n",
       "      <td>Twelve outrageous guests. Four scandalous requ...</td>\n",
       "      <td>Four Rooms</td>\n",
       "      <td>False</td>\n",
       "      <td>5.829</td>\n",
       "      <td>2565.0</td>\n",
       "      <td>{'keywords': [{'id': 612, 'name': 'hotel'}, {'...</td>\n",
       "      <td>{'cast': [{'adult': False, 'gender': 2, 'id': ...</td>\n",
       "    </tr>\n",
       "    <tr>\n",
       "      <th>4</th>\n",
       "      <td>False</td>\n",
       "      <td>/bGMqHn0H2UY6SPZ5Vch4YJM2jDO.jpg</td>\n",
       "      <td>NaN</td>\n",
       "      <td>21000000.0</td>\n",
       "      <td>[{'id': 28, 'name': 'Action'}, {'id': 80, 'nam...</td>\n",
       "      <td>NaN</td>\n",
       "      <td>6.0</td>\n",
       "      <td>tt0107286</td>\n",
       "      <td>en</td>\n",
       "      <td>Judgment Night</td>\n",
       "      <td>...</td>\n",
       "      <td>109.0</td>\n",
       "      <td>[{'english_name': 'English', 'iso_639_1': 'en'...</td>\n",
       "      <td>Released</td>\n",
       "      <td>Don't move. Don't whisper. Don't even breathe.</td>\n",
       "      <td>Judgment Night</td>\n",
       "      <td>False</td>\n",
       "      <td>6.508</td>\n",
       "      <td>321.0</td>\n",
       "      <td>{'keywords': [{'id': 2231, 'name': 'drug deale...</td>\n",
       "      <td>{'cast': [{'adult': False, 'gender': 2, 'id': ...</td>\n",
       "    </tr>\n",
       "    <tr>\n",
       "      <th>5</th>\n",
       "      <td>False</td>\n",
       "      <td>NaN</td>\n",
       "      <td>NaN</td>\n",
       "      <td>42000.0</td>\n",
       "      <td>[{'id': 99, 'name': 'Documentary'}]</td>\n",
       "      <td>http://lifeinloops.com</td>\n",
       "      <td>8.0</td>\n",
       "      <td>tt0825671</td>\n",
       "      <td>en</td>\n",
       "      <td>Life in Loops (A Megacities RMX)</td>\n",
       "      <td>...</td>\n",
       "      <td>80.0</td>\n",
       "      <td>[{'english_name': 'English', 'iso_639_1': 'en'...</td>\n",
       "      <td>Released</td>\n",
       "      <td>A Megacities remix.</td>\n",
       "      <td>Life in Loops (A Megacities RMX)</td>\n",
       "      <td>False</td>\n",
       "      <td>7.300</td>\n",
       "      <td>28.0</td>\n",
       "      <td>{'keywords': [{'id': 215272, 'name': 'megaciti...</td>\n",
       "      <td>{'cast': [], 'crew': [{'adult': False, 'gender...</td>\n",
       "    </tr>\n",
       "    <tr>\n",
       "      <th>7</th>\n",
       "      <td>False</td>\n",
       "      <td>/4qCqAdHcNKeAHcK8tJ8wNJZa9cx.jpg</td>\n",
       "      <td>{'id': 10, 'name': 'Star Wars Collection', 'po...</td>\n",
       "      <td>11000000.0</td>\n",
       "      <td>[{'id': 12, 'name': 'Adventure'}, {'id': 28, '...</td>\n",
       "      <td>http://www.starwars.com/films/star-wars-episod...</td>\n",
       "      <td>11.0</td>\n",
       "      <td>tt0076759</td>\n",
       "      <td>en</td>\n",
       "      <td>Star Wars</td>\n",
       "      <td>...</td>\n",
       "      <td>121.0</td>\n",
       "      <td>[{'english_name': 'English', 'iso_639_1': 'en'...</td>\n",
       "      <td>Released</td>\n",
       "      <td>A long time ago in a galaxy far, far away...</td>\n",
       "      <td>Star Wars</td>\n",
       "      <td>False</td>\n",
       "      <td>8.203</td>\n",
       "      <td>20009.0</td>\n",
       "      <td>{'keywords': [{'id': 11195, 'name': 'empire'},...</td>\n",
       "      <td>{'cast': [{'adult': False, 'gender': 2, 'id': ...</td>\n",
       "    </tr>\n",
       "    <tr>\n",
       "      <th>8</th>\n",
       "      <td>False</td>\n",
       "      <td>/eCynaAOgYYiw5yN5lBwz3IxqvaW.jpg</td>\n",
       "      <td>{'id': 137697, 'name': 'Finding Nemo Collectio...</td>\n",
       "      <td>94000000.0</td>\n",
       "      <td>[{'id': 16, 'name': 'Animation'}, {'id': 10751...</td>\n",
       "      <td>http://movies.disney.com/finding-nemo</td>\n",
       "      <td>12.0</td>\n",
       "      <td>tt0266543</td>\n",
       "      <td>en</td>\n",
       "      <td>Finding Nemo</td>\n",
       "      <td>...</td>\n",
       "      <td>100.0</td>\n",
       "      <td>[{'english_name': 'English', 'iso_639_1': 'en'...</td>\n",
       "      <td>Released</td>\n",
       "      <td>There are 3.7 trillion fish in the ocean. They...</td>\n",
       "      <td>Finding Nemo</td>\n",
       "      <td>False</td>\n",
       "      <td>7.823</td>\n",
       "      <td>18726.0</td>\n",
       "      <td>{'keywords': [{'id': 5656, 'name': 'sydney, au...</td>\n",
       "      <td>{'cast': [{'adult': False, 'gender': 2, 'id': ...</td>\n",
       "    </tr>\n",
       "  </tbody>\n",
       "</table>\n",
       "<p>5 rows × 27 columns</p>\n",
       "</div>"
      ],
      "text/plain": [
       "   adult                     backdrop_path  \\\n",
       "3  False  /f2t4JbUvQIjUF5FstG1zZFAp02N.jpg   \n",
       "4  False  /bGMqHn0H2UY6SPZ5Vch4YJM2jDO.jpg   \n",
       "5  False                               NaN   \n",
       "7  False  /4qCqAdHcNKeAHcK8tJ8wNJZa9cx.jpg   \n",
       "8  False  /eCynaAOgYYiw5yN5lBwz3IxqvaW.jpg   \n",
       "\n",
       "                               belongs_to_collection      budget  \\\n",
       "3                                                NaN   4000000.0   \n",
       "4                                                NaN  21000000.0   \n",
       "5                                                NaN     42000.0   \n",
       "7  {'id': 10, 'name': 'Star Wars Collection', 'po...  11000000.0   \n",
       "8  {'id': 137697, 'name': 'Finding Nemo Collectio...  94000000.0   \n",
       "\n",
       "                                              genres  \\\n",
       "3                     [{'id': 35, 'name': 'Comedy'}]   \n",
       "4  [{'id': 28, 'name': 'Action'}, {'id': 80, 'nam...   \n",
       "5                [{'id': 99, 'name': 'Documentary'}]   \n",
       "7  [{'id': 12, 'name': 'Adventure'}, {'id': 28, '...   \n",
       "8  [{'id': 16, 'name': 'Animation'}, {'id': 10751...   \n",
       "\n",
       "                                            homepage    id    imdb_id  \\\n",
       "3          https://www.miramax.com/movie/four-rooms/   5.0  tt0113101   \n",
       "4                                                NaN   6.0  tt0107286   \n",
       "5                             http://lifeinloops.com   8.0  tt0825671   \n",
       "7  http://www.starwars.com/films/star-wars-episod...  11.0  tt0076759   \n",
       "8              http://movies.disney.com/finding-nemo  12.0  tt0266543   \n",
       "\n",
       "  original_language                    original_title  ... runtime  \\\n",
       "3                en                        Four Rooms  ...    98.0   \n",
       "4                en                    Judgment Night  ...   109.0   \n",
       "5                en  Life in Loops (A Megacities RMX)  ...    80.0   \n",
       "7                en                         Star Wars  ...   121.0   \n",
       "8                en                      Finding Nemo  ...   100.0   \n",
       "\n",
       "                                    spoken_languages    status  \\\n",
       "3  [{'english_name': 'English', 'iso_639_1': 'en'...  Released   \n",
       "4  [{'english_name': 'English', 'iso_639_1': 'en'...  Released   \n",
       "5  [{'english_name': 'English', 'iso_639_1': 'en'...  Released   \n",
       "7  [{'english_name': 'English', 'iso_639_1': 'en'...  Released   \n",
       "8  [{'english_name': 'English', 'iso_639_1': 'en'...  Released   \n",
       "\n",
       "                                             tagline  \\\n",
       "3  Twelve outrageous guests. Four scandalous requ...   \n",
       "4     Don't move. Don't whisper. Don't even breathe.   \n",
       "5                                A Megacities remix.   \n",
       "7       A long time ago in a galaxy far, far away...   \n",
       "8  There are 3.7 trillion fish in the ocean. They...   \n",
       "\n",
       "                              title  video  vote_average  vote_count  \\\n",
       "3                        Four Rooms  False         5.829      2565.0   \n",
       "4                    Judgment Night  False         6.508       321.0   \n",
       "5  Life in Loops (A Megacities RMX)  False         7.300        28.0   \n",
       "7                         Star Wars  False         8.203     20009.0   \n",
       "8                      Finding Nemo  False         7.823     18726.0   \n",
       "\n",
       "                                            keywords  \\\n",
       "3  {'keywords': [{'id': 612, 'name': 'hotel'}, {'...   \n",
       "4  {'keywords': [{'id': 2231, 'name': 'drug deale...   \n",
       "5  {'keywords': [{'id': 215272, 'name': 'megaciti...   \n",
       "7  {'keywords': [{'id': 11195, 'name': 'empire'},...   \n",
       "8  {'keywords': [{'id': 5656, 'name': 'sydney, au...   \n",
       "\n",
       "                                             credits  \n",
       "3  {'cast': [{'adult': False, 'gender': 2, 'id': ...  \n",
       "4  {'cast': [{'adult': False, 'gender': 2, 'id': ...  \n",
       "5  {'cast': [], 'crew': [{'adult': False, 'gender...  \n",
       "7  {'cast': [{'adult': False, 'gender': 2, 'id': ...  \n",
       "8  {'cast': [{'adult': False, 'gender': 2, 'id': ...  \n",
       "\n",
       "[5 rows x 27 columns]"
      ]
     },
     "execution_count": 38,
     "metadata": {},
     "output_type": "execute_result"
    }
   ],
   "source": [
    "english_df.head()"
   ]
  },
  {
   "cell_type": "code",
   "execution_count": 39,
   "metadata": {},
   "outputs": [],
   "source": [
    "def extract_keywords(k):\n",
    "    if \"keywords\" not in k or len(k[\"keywords\"]) == 0:\n",
    "        return []\n",
    "    return [x[\"name\"] for x in k[\"keywords\"]]\n",
    "def extract_genres(g):\n",
    "    if not g:\n",
    "        return []\n",
    "    return [x[\"name\"] for x in g] \n",
    "def extract_directors(c):\n",
    "    directors = sorted([(x[\"popularity\"], x[\"name\"]) for x in c[\"crew\"] if x[\"job\"] == \"Director\"], reverse=True)\n",
    "    return [d[1] for d in directors] if directors else []\n",
    "def extract_cast(c):\n",
    "    cast= sorted([(x[\"popularity\"], x[\"name\"]) for x in c[\"cast\"]], reverse=True)\n",
    "    return [ca[1] for ca in cast] if cast else []"
   ]
  },
  {
   "cell_type": "code",
   "execution_count": 40,
   "metadata": {},
   "outputs": [
    {
     "name": "stderr",
     "output_type": "stream",
     "text": [
      "/var/folders/mm/b26l1fbn3lgg74ssxs6chhsh0000gn/T/ipykernel_88227/1164972725.py:1: SettingWithCopyWarning: \n",
      "A value is trying to be set on a copy of a slice from a DataFrame.\n",
      "Try using .loc[row_indexer,col_indexer] = value instead\n",
      "\n",
      "See the caveats in the documentation: https://pandas.pydata.org/pandas-docs/stable/user_guide/indexing.html#returning-a-view-versus-a-copy\n",
      "  english_df[\"clean_keywords\"] = english_df[\"keywords\"].apply(extract_keywords)\n"
     ]
    }
   ],
   "source": [
    "english_df[\"clean_keywords\"] = english_df[\"keywords\"].apply(extract_keywords)"
   ]
  },
  {
   "cell_type": "code",
   "execution_count": 41,
   "metadata": {},
   "outputs": [
    {
     "name": "stderr",
     "output_type": "stream",
     "text": [
      "/var/folders/mm/b26l1fbn3lgg74ssxs6chhsh0000gn/T/ipykernel_88227/95047217.py:1: SettingWithCopyWarning: \n",
      "A value is trying to be set on a copy of a slice from a DataFrame.\n",
      "Try using .loc[row_indexer,col_indexer] = value instead\n",
      "\n",
      "See the caveats in the documentation: https://pandas.pydata.org/pandas-docs/stable/user_guide/indexing.html#returning-a-view-versus-a-copy\n",
      "  english_df[\"clean_genres\"] = english_df[\"genres\"].apply(extract_genres)\n"
     ]
    }
   ],
   "source": [
    "english_df[\"clean_genres\"] = english_df[\"genres\"].apply(extract_genres)"
   ]
  },
  {
   "cell_type": "code",
   "execution_count": 42,
   "metadata": {},
   "outputs": [
    {
     "name": "stderr",
     "output_type": "stream",
     "text": [
      "/var/folders/mm/b26l1fbn3lgg74ssxs6chhsh0000gn/T/ipykernel_88227/2227866509.py:1: SettingWithCopyWarning: \n",
      "A value is trying to be set on a copy of a slice from a DataFrame.\n",
      "Try using .loc[row_indexer,col_indexer] = value instead\n",
      "\n",
      "See the caveats in the documentation: https://pandas.pydata.org/pandas-docs/stable/user_guide/indexing.html#returning-a-view-versus-a-copy\n",
      "  english_df[\"cast\"] = english_df[\"credits\"].apply(extract_cast)\n"
     ]
    }
   ],
   "source": [
    "english_df[\"cast\"] = english_df[\"credits\"].apply(extract_cast)"
   ]
  },
  {
   "cell_type": "code",
   "execution_count": 43,
   "metadata": {},
   "outputs": [
    {
     "name": "stderr",
     "output_type": "stream",
     "text": [
      "/var/folders/mm/b26l1fbn3lgg74ssxs6chhsh0000gn/T/ipykernel_88227/2770451894.py:1: SettingWithCopyWarning: \n",
      "A value is trying to be set on a copy of a slice from a DataFrame.\n",
      "Try using .loc[row_indexer,col_indexer] = value instead\n",
      "\n",
      "See the caveats in the documentation: https://pandas.pydata.org/pandas-docs/stable/user_guide/indexing.html#returning-a-view-versus-a-copy\n",
      "  english_df[\"director\"] = english_df[\"credits\"].apply(extract_directors)\n"
     ]
    }
   ],
   "source": [
    "english_df[\"director\"] = english_df[\"credits\"].apply(extract_directors)"
   ]
  },
  {
   "cell_type": "code",
   "execution_count": 46,
   "metadata": {},
   "outputs": [
    {
     "name": "stdout",
     "output_type": "stream",
     "text": [
      "<class 'pandas.core.frame.DataFrame'>\n",
      "Index: 328022 entries, 3 to 651792\n",
      "Data columns (total 31 columns):\n",
      " #   Column                 Non-Null Count   Dtype  \n",
      "---  ------                 --------------   -----  \n",
      " 0   adult                  328022 non-null  object \n",
      " 1   backdrop_path          96076 non-null   object \n",
      " 2   belongs_to_collection  8010 non-null    object \n",
      " 3   budget                 328022 non-null  float64\n",
      " 4   genres                 328022 non-null  object \n",
      " 5   homepage               57043 non-null   object \n",
      " 6   id                     328022 non-null  float64\n",
      " 7   imdb_id                206511 non-null  object \n",
      " 8   original_language      328022 non-null  object \n",
      " 9   original_title         328018 non-null  object \n",
      " 10  overview               320977 non-null  object \n",
      " 11  popularity             328022 non-null  float64\n",
      " 12  poster_path            235896 non-null  object \n",
      " 13  production_companies   328022 non-null  object \n",
      " 14  production_countries   328022 non-null  object \n",
      " 15  release_date           290290 non-null  object \n",
      " 16  revenue                328022 non-null  float64\n",
      " 17  runtime                328022 non-null  float64\n",
      " 18  spoken_languages       328022 non-null  object \n",
      " 19  status                 328022 non-null  object \n",
      " 20  tagline                76255 non-null   object \n",
      " 21  title                  328018 non-null  object \n",
      " 22  video                  328022 non-null  object \n",
      " 23  vote_average           328022 non-null  float64\n",
      " 24  vote_count             328022 non-null  float64\n",
      " 25  keywords               328022 non-null  object \n",
      " 26  credits                328022 non-null  object \n",
      " 27  clean_keywords         102128 non-null  object \n",
      " 28  clean_genres           217818 non-null  object \n",
      " 29  cast                   208865 non-null  object \n",
      " 30  director               258330 non-null  object \n",
      "dtypes: float64(7), object(24)\n",
      "memory usage: 80.1+ MB\n"
     ]
    }
   ],
   "source": [
    "english_df.info()"
   ]
  },
  {
   "cell_type": "code",
   "execution_count": 61,
   "metadata": {},
   "outputs": [],
   "source": [
    "final_df = english_df[[\"id\", \"title\", \"overview\", \"popularity\", \"release_date\", \"clean_keywords\", \"clean_genres\", \"cast\", \"director\"]]"
   ]
  },
  {
   "cell_type": "code",
   "execution_count": null,
   "metadata": {},
   "outputs": [],
   "source": [
    "final_df.reset_index(drop=True, inplace=True)"
   ]
  },
  {
   "cell_type": "code",
   "execution_count": 77,
   "metadata": {},
   "outputs": [
    {
     "name": "stdout",
     "output_type": "stream",
     "text": [
      "<class 'pandas.core.frame.DataFrame'>\n",
      "RangeIndex: 328020 entries, 0 to 328019\n",
      "Data columns (total 9 columns):\n",
      " #   Column          Non-Null Count   Dtype  \n",
      "---  ------          --------------   -----  \n",
      " 0   id              328020 non-null  float64\n",
      " 1   title           328020 non-null  object \n",
      " 2   overview        320977 non-null  object \n",
      " 3   popularity      328020 non-null  float64\n",
      " 4   release_date    290289 non-null  object \n",
      " 5   clean_keywords  102128 non-null  object \n",
      " 6   clean_genres    217817 non-null  object \n",
      " 7   cast            208864 non-null  object \n",
      " 8   director        258329 non-null  object \n",
      "dtypes: float64(2), object(7)\n",
      "memory usage: 22.5+ MB\n"
     ]
    }
   ],
   "source": [
    "final_df.info()"
   ]
  },
  {
   "cell_type": "code",
   "execution_count": 74,
   "metadata": {},
   "outputs": [
    {
     "name": "stderr",
     "output_type": "stream",
     "text": [
      "/var/folders/mm/b26l1fbn3lgg74ssxs6chhsh0000gn/T/ipykernel_88227/795489836.py:1: SettingWithCopyWarning: \n",
      "A value is trying to be set on a copy of a slice from a DataFrame\n",
      "\n",
      "See the caveats in the documentation: https://pandas.pydata.org/pandas-docs/stable/user_guide/indexing.html#returning-a-view-versus-a-copy\n",
      "  final_df.drop(final_df[final_df[\"title\"].isna()].index, inplace=True)\n"
     ]
    }
   ],
   "source": [
    "final_df.drop(final_df[final_df[\"title\"].isna()].index, inplace=True)"
   ]
  },
  {
   "cell_type": "code",
   "execution_count": 75,
   "metadata": {},
   "outputs": [],
   "source": [
    "final_df.reset_index(drop=True, inplace=True)"
   ]
  },
  {
   "cell_type": "code",
   "execution_count": 79,
   "metadata": {},
   "outputs": [],
   "source": [
    "final_df.to_csv(\"../../data/clean/english_movies_clean.csv\", index=False)"
   ]
  }
 ],
 "metadata": {
  "kernelspec": {
   "display_name": "recenv",
   "language": "python",
   "name": "python3"
  },
  "language_info": {
   "codemirror_mode": {
    "name": "ipython",
    "version": 3
   },
   "file_extension": ".py",
   "mimetype": "text/x-python",
   "name": "python",
   "nbconvert_exporter": "python",
   "pygments_lexer": "ipython3",
   "version": "3.11.4"
  }
 },
 "nbformat": 4,
 "nbformat_minor": 2
}
